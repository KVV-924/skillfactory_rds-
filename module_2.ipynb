{
 "cells": [
  {
   "cell_type": "code",
   "execution_count": 533,
   "id": "7ef886ac",
   "metadata": {},
   "outputs": [],
   "source": [
    "import pandas as pd\n",
    "import matplotlib.pyplot as plt\n",
    "import seaborn as sns\n",
    "from itertools import combinations\n",
    "from scipy.stats import ttest_ind"
   ]
  },
  {
   "cell_type": "code",
   "execution_count": 534,
   "id": "85593a5b",
   "metadata": {},
   "outputs": [],
   "source": [
    "unicef = pd.read_csv('/Users/vladimirkonovalov/Downloads/stud_math.csv')"
   ]
  },
  {
   "cell_type": "code",
   "execution_count": 535,
   "id": "6c70c2f4",
   "metadata": {},
   "outputs": [
    {
     "data": {
      "text/html": [
       "<div>\n",
       "<style scoped>\n",
       "    .dataframe tbody tr th:only-of-type {\n",
       "        vertical-align: middle;\n",
       "    }\n",
       "\n",
       "    .dataframe tbody tr th {\n",
       "        vertical-align: top;\n",
       "    }\n",
       "\n",
       "    .dataframe thead th {\n",
       "        text-align: right;\n",
       "    }\n",
       "</style>\n",
       "<table border=\"1\" class=\"dataframe\">\n",
       "  <thead>\n",
       "    <tr style=\"text-align: right;\">\n",
       "      <th></th>\n",
       "      <th>school</th>\n",
       "      <th>sex</th>\n",
       "      <th>age</th>\n",
       "      <th>address</th>\n",
       "      <th>famsize</th>\n",
       "      <th>Pstatus</th>\n",
       "      <th>Medu</th>\n",
       "      <th>Fedu</th>\n",
       "      <th>Mjob</th>\n",
       "      <th>Fjob</th>\n",
       "      <th>...</th>\n",
       "      <th>studytime, granular</th>\n",
       "      <th>higher</th>\n",
       "      <th>internet</th>\n",
       "      <th>romantic</th>\n",
       "      <th>famrel</th>\n",
       "      <th>freetime</th>\n",
       "      <th>goout</th>\n",
       "      <th>health</th>\n",
       "      <th>absences</th>\n",
       "      <th>score</th>\n",
       "    </tr>\n",
       "  </thead>\n",
       "  <tbody>\n",
       "    <tr>\n",
       "      <th>0</th>\n",
       "      <td>GP</td>\n",
       "      <td>F</td>\n",
       "      <td>18</td>\n",
       "      <td>U</td>\n",
       "      <td>NaN</td>\n",
       "      <td>A</td>\n",
       "      <td>4.0</td>\n",
       "      <td>4.0</td>\n",
       "      <td>at_home</td>\n",
       "      <td>teacher</td>\n",
       "      <td>...</td>\n",
       "      <td>-6.0</td>\n",
       "      <td>yes</td>\n",
       "      <td>NaN</td>\n",
       "      <td>no</td>\n",
       "      <td>4.0</td>\n",
       "      <td>3.0</td>\n",
       "      <td>4.0</td>\n",
       "      <td>3.0</td>\n",
       "      <td>6.0</td>\n",
       "      <td>30.0</td>\n",
       "    </tr>\n",
       "    <tr>\n",
       "      <th>1</th>\n",
       "      <td>GP</td>\n",
       "      <td>F</td>\n",
       "      <td>17</td>\n",
       "      <td>U</td>\n",
       "      <td>GT3</td>\n",
       "      <td>NaN</td>\n",
       "      <td>1.0</td>\n",
       "      <td>1.0</td>\n",
       "      <td>at_home</td>\n",
       "      <td>other</td>\n",
       "      <td>...</td>\n",
       "      <td>-6.0</td>\n",
       "      <td>yes</td>\n",
       "      <td>yes</td>\n",
       "      <td>no</td>\n",
       "      <td>5.0</td>\n",
       "      <td>3.0</td>\n",
       "      <td>3.0</td>\n",
       "      <td>3.0</td>\n",
       "      <td>4.0</td>\n",
       "      <td>30.0</td>\n",
       "    </tr>\n",
       "    <tr>\n",
       "      <th>2</th>\n",
       "      <td>GP</td>\n",
       "      <td>F</td>\n",
       "      <td>15</td>\n",
       "      <td>U</td>\n",
       "      <td>LE3</td>\n",
       "      <td>T</td>\n",
       "      <td>1.0</td>\n",
       "      <td>1.0</td>\n",
       "      <td>at_home</td>\n",
       "      <td>other</td>\n",
       "      <td>...</td>\n",
       "      <td>-6.0</td>\n",
       "      <td>yes</td>\n",
       "      <td>yes</td>\n",
       "      <td>NaN</td>\n",
       "      <td>4.0</td>\n",
       "      <td>3.0</td>\n",
       "      <td>2.0</td>\n",
       "      <td>3.0</td>\n",
       "      <td>10.0</td>\n",
       "      <td>50.0</td>\n",
       "    </tr>\n",
       "    <tr>\n",
       "      <th>3</th>\n",
       "      <td>GP</td>\n",
       "      <td>F</td>\n",
       "      <td>15</td>\n",
       "      <td>U</td>\n",
       "      <td>GT3</td>\n",
       "      <td>T</td>\n",
       "      <td>4.0</td>\n",
       "      <td>2.0</td>\n",
       "      <td>health</td>\n",
       "      <td>NaN</td>\n",
       "      <td>...</td>\n",
       "      <td>-9.0</td>\n",
       "      <td>yes</td>\n",
       "      <td>yes</td>\n",
       "      <td>yes</td>\n",
       "      <td>3.0</td>\n",
       "      <td>2.0</td>\n",
       "      <td>2.0</td>\n",
       "      <td>5.0</td>\n",
       "      <td>2.0</td>\n",
       "      <td>75.0</td>\n",
       "    </tr>\n",
       "    <tr>\n",
       "      <th>4</th>\n",
       "      <td>GP</td>\n",
       "      <td>F</td>\n",
       "      <td>16</td>\n",
       "      <td>U</td>\n",
       "      <td>GT3</td>\n",
       "      <td>T</td>\n",
       "      <td>3.0</td>\n",
       "      <td>3.0</td>\n",
       "      <td>other</td>\n",
       "      <td>other</td>\n",
       "      <td>...</td>\n",
       "      <td>-6.0</td>\n",
       "      <td>yes</td>\n",
       "      <td>no</td>\n",
       "      <td>no</td>\n",
       "      <td>4.0</td>\n",
       "      <td>3.0</td>\n",
       "      <td>2.0</td>\n",
       "      <td>5.0</td>\n",
       "      <td>4.0</td>\n",
       "      <td>50.0</td>\n",
       "    </tr>\n",
       "    <tr>\n",
       "      <th>5</th>\n",
       "      <td>GP</td>\n",
       "      <td>M</td>\n",
       "      <td>16</td>\n",
       "      <td>U</td>\n",
       "      <td>LE3</td>\n",
       "      <td>T</td>\n",
       "      <td>4.0</td>\n",
       "      <td>3.0</td>\n",
       "      <td>services</td>\n",
       "      <td>other</td>\n",
       "      <td>...</td>\n",
       "      <td>-6.0</td>\n",
       "      <td>yes</td>\n",
       "      <td>yes</td>\n",
       "      <td>no</td>\n",
       "      <td>5.0</td>\n",
       "      <td>4.0</td>\n",
       "      <td>2.0</td>\n",
       "      <td>5.0</td>\n",
       "      <td>10.0</td>\n",
       "      <td>75.0</td>\n",
       "    </tr>\n",
       "    <tr>\n",
       "      <th>6</th>\n",
       "      <td>GP</td>\n",
       "      <td>M</td>\n",
       "      <td>16</td>\n",
       "      <td>NaN</td>\n",
       "      <td>LE3</td>\n",
       "      <td>T</td>\n",
       "      <td>2.0</td>\n",
       "      <td>2.0</td>\n",
       "      <td>other</td>\n",
       "      <td>other</td>\n",
       "      <td>...</td>\n",
       "      <td>-6.0</td>\n",
       "      <td>yes</td>\n",
       "      <td>yes</td>\n",
       "      <td>no</td>\n",
       "      <td>4.0</td>\n",
       "      <td>4.0</td>\n",
       "      <td>4.0</td>\n",
       "      <td>3.0</td>\n",
       "      <td>0.0</td>\n",
       "      <td>55.0</td>\n",
       "    </tr>\n",
       "    <tr>\n",
       "      <th>7</th>\n",
       "      <td>GP</td>\n",
       "      <td>F</td>\n",
       "      <td>17</td>\n",
       "      <td>U</td>\n",
       "      <td>GT3</td>\n",
       "      <td>A</td>\n",
       "      <td>4.0</td>\n",
       "      <td>4.0</td>\n",
       "      <td>other</td>\n",
       "      <td>teacher</td>\n",
       "      <td>...</td>\n",
       "      <td>-6.0</td>\n",
       "      <td>yes</td>\n",
       "      <td>no</td>\n",
       "      <td>no</td>\n",
       "      <td>4.0</td>\n",
       "      <td>1.0</td>\n",
       "      <td>4.0</td>\n",
       "      <td>1.0</td>\n",
       "      <td>6.0</td>\n",
       "      <td>30.0</td>\n",
       "    </tr>\n",
       "    <tr>\n",
       "      <th>8</th>\n",
       "      <td>GP</td>\n",
       "      <td>M</td>\n",
       "      <td>15</td>\n",
       "      <td>U</td>\n",
       "      <td>LE3</td>\n",
       "      <td>A</td>\n",
       "      <td>3.0</td>\n",
       "      <td>2.0</td>\n",
       "      <td>services</td>\n",
       "      <td>other</td>\n",
       "      <td>...</td>\n",
       "      <td>-6.0</td>\n",
       "      <td>yes</td>\n",
       "      <td>yes</td>\n",
       "      <td>no</td>\n",
       "      <td>NaN</td>\n",
       "      <td>2.0</td>\n",
       "      <td>2.0</td>\n",
       "      <td>1.0</td>\n",
       "      <td>0.0</td>\n",
       "      <td>95.0</td>\n",
       "    </tr>\n",
       "    <tr>\n",
       "      <th>9</th>\n",
       "      <td>GP</td>\n",
       "      <td>M</td>\n",
       "      <td>15</td>\n",
       "      <td>U</td>\n",
       "      <td>NaN</td>\n",
       "      <td>NaN</td>\n",
       "      <td>3.0</td>\n",
       "      <td>4.0</td>\n",
       "      <td>other</td>\n",
       "      <td>other</td>\n",
       "      <td>...</td>\n",
       "      <td>-6.0</td>\n",
       "      <td>yes</td>\n",
       "      <td>yes</td>\n",
       "      <td>no</td>\n",
       "      <td>5.0</td>\n",
       "      <td>5.0</td>\n",
       "      <td>1.0</td>\n",
       "      <td>5.0</td>\n",
       "      <td>0.0</td>\n",
       "      <td>75.0</td>\n",
       "    </tr>\n",
       "  </tbody>\n",
       "</table>\n",
       "<p>10 rows × 30 columns</p>\n",
       "</div>"
      ],
      "text/plain": [
       "  school sex  age address famsize Pstatus  Medu  Fedu      Mjob     Fjob  ...  \\\n",
       "0     GP   F   18       U     NaN       A   4.0   4.0   at_home  teacher  ...   \n",
       "1     GP   F   17       U     GT3     NaN   1.0   1.0   at_home    other  ...   \n",
       "2     GP   F   15       U     LE3       T   1.0   1.0   at_home    other  ...   \n",
       "3     GP   F   15       U     GT3       T   4.0   2.0    health      NaN  ...   \n",
       "4     GP   F   16       U     GT3       T   3.0   3.0     other    other  ...   \n",
       "5     GP   M   16       U     LE3       T   4.0   3.0  services    other  ...   \n",
       "6     GP   M   16     NaN     LE3       T   2.0   2.0     other    other  ...   \n",
       "7     GP   F   17       U     GT3       A   4.0   4.0     other  teacher  ...   \n",
       "8     GP   M   15       U     LE3       A   3.0   2.0  services    other  ...   \n",
       "9     GP   M   15       U     NaN     NaN   3.0   4.0     other    other  ...   \n",
       "\n",
       "  studytime, granular higher  internet  romantic  famrel freetime goout  \\\n",
       "0                -6.0    yes       NaN        no     4.0      3.0   4.0   \n",
       "1                -6.0    yes       yes        no     5.0      3.0   3.0   \n",
       "2                -6.0    yes       yes       NaN     4.0      3.0   2.0   \n",
       "3                -9.0    yes       yes       yes     3.0      2.0   2.0   \n",
       "4                -6.0    yes        no        no     4.0      3.0   2.0   \n",
       "5                -6.0    yes       yes        no     5.0      4.0   2.0   \n",
       "6                -6.0    yes       yes        no     4.0      4.0   4.0   \n",
       "7                -6.0    yes        no        no     4.0      1.0   4.0   \n",
       "8                -6.0    yes       yes        no     NaN      2.0   2.0   \n",
       "9                -6.0    yes       yes        no     5.0      5.0   1.0   \n",
       "\n",
       "  health absences score  \n",
       "0    3.0      6.0  30.0  \n",
       "1    3.0      4.0  30.0  \n",
       "2    3.0     10.0  50.0  \n",
       "3    5.0      2.0  75.0  \n",
       "4    5.0      4.0  50.0  \n",
       "5    5.0     10.0  75.0  \n",
       "6    3.0      0.0  55.0  \n",
       "7    1.0      6.0  30.0  \n",
       "8    1.0      0.0  95.0  \n",
       "9    5.0      0.0  75.0  \n",
       "\n",
       "[10 rows x 30 columns]"
      ]
     },
     "metadata": {},
     "output_type": "display_data"
    }
   ],
   "source": [
    "display(unicef.head(10))\n"
   ]
  },
  {
   "cell_type": "code",
   "execution_count": 536,
   "id": "692982e6",
   "metadata": {},
   "outputs": [
    {
     "name": "stdout",
     "output_type": "stream",
     "text": [
      "<class 'pandas.core.frame.DataFrame'>\n",
      "RangeIndex: 395 entries, 0 to 394\n",
      "Data columns (total 30 columns):\n",
      " #   Column               Non-Null Count  Dtype  \n",
      "---  ------               --------------  -----  \n",
      " 0   school               395 non-null    object \n",
      " 1   sex                  395 non-null    object \n",
      " 2   age                  395 non-null    int64  \n",
      " 3   address              378 non-null    object \n",
      " 4   famsize              368 non-null    object \n",
      " 5   Pstatus              350 non-null    object \n",
      " 6   Medu                 392 non-null    float64\n",
      " 7   Fedu                 371 non-null    float64\n",
      " 8   Mjob                 376 non-null    object \n",
      " 9   Fjob                 359 non-null    object \n",
      " 10  reason               378 non-null    object \n",
      " 11  guardian             364 non-null    object \n",
      " 12  traveltime           367 non-null    float64\n",
      " 13  studytime            388 non-null    float64\n",
      " 14  failures             373 non-null    float64\n",
      " 15  schoolsup            386 non-null    object \n",
      " 16  famsup               356 non-null    object \n",
      " 17  paid                 355 non-null    object \n",
      " 18  activities           381 non-null    object \n",
      " 19  nursery              379 non-null    object \n",
      " 20  studytime, granular  388 non-null    float64\n",
      " 21  higher               375 non-null    object \n",
      " 22  internet             361 non-null    object \n",
      " 23  romantic             364 non-null    object \n",
      " 24  famrel               368 non-null    float64\n",
      " 25  freetime             384 non-null    float64\n",
      " 26  goout                387 non-null    float64\n",
      " 27  health               380 non-null    float64\n",
      " 28  absences             383 non-null    float64\n",
      " 29  score                389 non-null    float64\n",
      "dtypes: float64(12), int64(1), object(17)\n",
      "memory usage: 92.7+ KB\n"
     ]
    }
   ],
   "source": [
    "unicef.info()"
   ]
  },
  {
   "cell_type": "code",
   "execution_count": 537,
   "id": "f127478e",
   "metadata": {},
   "outputs": [],
   "source": [
    "# Удаляем столбцы, в которых нет ценной для нас информации\n",
    "# studytime, granular в расшифровке в задаче что \n",
    "# означает даный столбец нет\n",
    "# аббревиатура школы тоже не имеет зачения\n",
    "# \n",
    "unicef.drop(columns = ['studytime, granular', 'school'], axis = 1, inplace = True)"
   ]
  },
  {
   "cell_type": "code",
   "execution_count": 538,
   "id": "e24bd3d3",
   "metadata": {},
   "outputs": [
    {
     "data": {
      "text/html": [
       "<div>\n",
       "<style scoped>\n",
       "    .dataframe tbody tr th:only-of-type {\n",
       "        vertical-align: middle;\n",
       "    }\n",
       "\n",
       "    .dataframe tbody tr th {\n",
       "        vertical-align: top;\n",
       "    }\n",
       "\n",
       "    .dataframe thead th {\n",
       "        text-align: right;\n",
       "    }\n",
       "</style>\n",
       "<table border=\"1\" class=\"dataframe\">\n",
       "  <thead>\n",
       "    <tr style=\"text-align: right;\">\n",
       "      <th></th>\n",
       "      <th>count</th>\n",
       "      <th>mean</th>\n",
       "      <th>std</th>\n",
       "      <th>min</th>\n",
       "      <th>25%</th>\n",
       "      <th>50%</th>\n",
       "      <th>75%</th>\n",
       "      <th>max</th>\n",
       "    </tr>\n",
       "  </thead>\n",
       "  <tbody>\n",
       "    <tr>\n",
       "      <th>age</th>\n",
       "      <td>395.0</td>\n",
       "      <td>16.696203</td>\n",
       "      <td>1.276043</td>\n",
       "      <td>15.0</td>\n",
       "      <td>16.0</td>\n",
       "      <td>17.0</td>\n",
       "      <td>18.0</td>\n",
       "      <td>22.0</td>\n",
       "    </tr>\n",
       "    <tr>\n",
       "      <th>Medu</th>\n",
       "      <td>392.0</td>\n",
       "      <td>2.750000</td>\n",
       "      <td>1.098127</td>\n",
       "      <td>0.0</td>\n",
       "      <td>2.0</td>\n",
       "      <td>3.0</td>\n",
       "      <td>4.0</td>\n",
       "      <td>4.0</td>\n",
       "    </tr>\n",
       "    <tr>\n",
       "      <th>Fedu</th>\n",
       "      <td>371.0</td>\n",
       "      <td>2.614555</td>\n",
       "      <td>2.228732</td>\n",
       "      <td>0.0</td>\n",
       "      <td>2.0</td>\n",
       "      <td>2.0</td>\n",
       "      <td>3.0</td>\n",
       "      <td>40.0</td>\n",
       "    </tr>\n",
       "    <tr>\n",
       "      <th>traveltime</th>\n",
       "      <td>367.0</td>\n",
       "      <td>1.438692</td>\n",
       "      <td>0.694181</td>\n",
       "      <td>1.0</td>\n",
       "      <td>1.0</td>\n",
       "      <td>1.0</td>\n",
       "      <td>2.0</td>\n",
       "      <td>4.0</td>\n",
       "    </tr>\n",
       "    <tr>\n",
       "      <th>studytime</th>\n",
       "      <td>388.0</td>\n",
       "      <td>2.038660</td>\n",
       "      <td>0.842078</td>\n",
       "      <td>1.0</td>\n",
       "      <td>1.0</td>\n",
       "      <td>2.0</td>\n",
       "      <td>2.0</td>\n",
       "      <td>4.0</td>\n",
       "    </tr>\n",
       "    <tr>\n",
       "      <th>failures</th>\n",
       "      <td>373.0</td>\n",
       "      <td>0.337802</td>\n",
       "      <td>0.743135</td>\n",
       "      <td>0.0</td>\n",
       "      <td>0.0</td>\n",
       "      <td>0.0</td>\n",
       "      <td>0.0</td>\n",
       "      <td>3.0</td>\n",
       "    </tr>\n",
       "    <tr>\n",
       "      <th>famrel</th>\n",
       "      <td>368.0</td>\n",
       "      <td>3.937500</td>\n",
       "      <td>0.927277</td>\n",
       "      <td>-1.0</td>\n",
       "      <td>4.0</td>\n",
       "      <td>4.0</td>\n",
       "      <td>5.0</td>\n",
       "      <td>5.0</td>\n",
       "    </tr>\n",
       "    <tr>\n",
       "      <th>freetime</th>\n",
       "      <td>384.0</td>\n",
       "      <td>3.231771</td>\n",
       "      <td>0.993940</td>\n",
       "      <td>1.0</td>\n",
       "      <td>3.0</td>\n",
       "      <td>3.0</td>\n",
       "      <td>4.0</td>\n",
       "      <td>5.0</td>\n",
       "    </tr>\n",
       "    <tr>\n",
       "      <th>goout</th>\n",
       "      <td>387.0</td>\n",
       "      <td>3.105943</td>\n",
       "      <td>1.115896</td>\n",
       "      <td>1.0</td>\n",
       "      <td>2.0</td>\n",
       "      <td>3.0</td>\n",
       "      <td>4.0</td>\n",
       "      <td>5.0</td>\n",
       "    </tr>\n",
       "    <tr>\n",
       "      <th>health</th>\n",
       "      <td>380.0</td>\n",
       "      <td>3.531579</td>\n",
       "      <td>1.396019</td>\n",
       "      <td>1.0</td>\n",
       "      <td>3.0</td>\n",
       "      <td>4.0</td>\n",
       "      <td>5.0</td>\n",
       "      <td>5.0</td>\n",
       "    </tr>\n",
       "    <tr>\n",
       "      <th>absences</th>\n",
       "      <td>383.0</td>\n",
       "      <td>7.279373</td>\n",
       "      <td>23.465197</td>\n",
       "      <td>0.0</td>\n",
       "      <td>0.0</td>\n",
       "      <td>4.0</td>\n",
       "      <td>8.0</td>\n",
       "      <td>385.0</td>\n",
       "    </tr>\n",
       "    <tr>\n",
       "      <th>score</th>\n",
       "      <td>389.0</td>\n",
       "      <td>52.262211</td>\n",
       "      <td>22.919022</td>\n",
       "      <td>0.0</td>\n",
       "      <td>40.0</td>\n",
       "      <td>55.0</td>\n",
       "      <td>70.0</td>\n",
       "      <td>100.0</td>\n",
       "    </tr>\n",
       "  </tbody>\n",
       "</table>\n",
       "</div>"
      ],
      "text/plain": [
       "            count       mean        std   min   25%   50%   75%    max\n",
       "age         395.0  16.696203   1.276043  15.0  16.0  17.0  18.0   22.0\n",
       "Medu        392.0   2.750000   1.098127   0.0   2.0   3.0   4.0    4.0\n",
       "Fedu        371.0   2.614555   2.228732   0.0   2.0   2.0   3.0   40.0\n",
       "traveltime  367.0   1.438692   0.694181   1.0   1.0   1.0   2.0    4.0\n",
       "studytime   388.0   2.038660   0.842078   1.0   1.0   2.0   2.0    4.0\n",
       "failures    373.0   0.337802   0.743135   0.0   0.0   0.0   0.0    3.0\n",
       "famrel      368.0   3.937500   0.927277  -1.0   4.0   4.0   5.0    5.0\n",
       "freetime    384.0   3.231771   0.993940   1.0   3.0   3.0   4.0    5.0\n",
       "goout       387.0   3.105943   1.115896   1.0   2.0   3.0   4.0    5.0\n",
       "health      380.0   3.531579   1.396019   1.0   3.0   4.0   5.0    5.0\n",
       "absences    383.0   7.279373  23.465197   0.0   0.0   4.0   8.0  385.0\n",
       "score       389.0  52.262211  22.919022   0.0  40.0  55.0  70.0  100.0"
      ]
     },
     "execution_count": 538,
     "metadata": {},
     "output_type": "execute_result"
    }
   ],
   "source": [
    "unicef.describe().T"
   ]
  },
  {
   "cell_type": "code",
   "execution_count": 539,
   "id": "5af9d59c",
   "metadata": {},
   "outputs": [],
   "source": [
    "# учитывая большое кол-во пропусков \n",
    "# нужно их устанить чтобы было везде 395"
   ]
  },
  {
   "cell_type": "code",
   "execution_count": 540,
   "id": "8610de02",
   "metadata": {},
   "outputs": [
    {
     "data": {
      "text/plain": [
       "U    295\n",
       "R     83\n",
       "Name: address, dtype: int64"
      ]
     },
     "execution_count": 540,
     "metadata": {},
     "output_type": "execute_result"
    }
   ],
   "source": [
    "unicef.address.value_counts()"
   ]
  },
  {
   "cell_type": "code",
   "execution_count": 541,
   "id": "ff4699ed",
   "metadata": {},
   "outputs": [],
   "source": [
    "# дозаполним что большинство учеников живет в городе\n",
    "unicef['address'].fillna('no address')\n",
    "unicef['address'].fillna(unicef['address'].value_counts().index[0], inplace = True)"
   ]
  },
  {
   "cell_type": "code",
   "execution_count": 542,
   "id": "a618a2a9",
   "metadata": {},
   "outputs": [
    {
     "name": "stdout",
     "output_type": "stream",
     "text": [
      "<class 'pandas.core.frame.DataFrame'>\n",
      "RangeIndex: 395 entries, 0 to 394\n",
      "Data columns (total 28 columns):\n",
      " #   Column      Non-Null Count  Dtype  \n",
      "---  ------      --------------  -----  \n",
      " 0   sex         395 non-null    object \n",
      " 1   age         395 non-null    int64  \n",
      " 2   address     395 non-null    object \n",
      " 3   famsize     368 non-null    object \n",
      " 4   Pstatus     350 non-null    object \n",
      " 5   Medu        392 non-null    float64\n",
      " 6   Fedu        371 non-null    float64\n",
      " 7   Mjob        376 non-null    object \n",
      " 8   Fjob        359 non-null    object \n",
      " 9   reason      378 non-null    object \n",
      " 10  guardian    364 non-null    object \n",
      " 11  traveltime  367 non-null    float64\n",
      " 12  studytime   388 non-null    float64\n",
      " 13  failures    373 non-null    float64\n",
      " 14  schoolsup   386 non-null    object \n",
      " 15  famsup      356 non-null    object \n",
      " 16  paid        355 non-null    object \n",
      " 17  activities  381 non-null    object \n",
      " 18  nursery     379 non-null    object \n",
      " 19  higher      375 non-null    object \n",
      " 20  internet    361 non-null    object \n",
      " 21  romantic    364 non-null    object \n",
      " 22  famrel      368 non-null    float64\n",
      " 23  freetime    384 non-null    float64\n",
      " 24  goout       387 non-null    float64\n",
      " 25  health      380 non-null    float64\n",
      " 26  absences    383 non-null    float64\n",
      " 27  score       389 non-null    float64\n",
      "dtypes: float64(11), int64(1), object(16)\n",
      "memory usage: 86.5+ KB\n"
     ]
    }
   ],
   "source": [
    "unicef.info()"
   ]
  },
  {
   "cell_type": "code",
   "execution_count": 543,
   "id": "8d82aa96",
   "metadata": {},
   "outputs": [],
   "source": [
    "#  famsize мало того что не удобный показатель, еще и не возможно корретировать\n",
    "# создадим новый столбец с показателями состава семьи 1 - больше 3 чел 0 - меньше 3 чел."
   ]
  },
  {
   "cell_type": "code",
   "execution_count": 544,
   "id": "3e7cdfa2",
   "metadata": {},
   "outputs": [
    {
     "data": {
      "text/plain": [
       "GT3    261\n",
       "LE3    107\n",
       "Name: famsize, dtype: int64"
      ]
     },
     "execution_count": 544,
     "metadata": {},
     "output_type": "execute_result"
    }
   ],
   "source": [
    "unicef.famsize.value_counts()"
   ]
  },
  {
   "cell_type": "code",
   "execution_count": 545,
   "id": "80b23ff5",
   "metadata": {},
   "outputs": [
    {
     "data": {
      "text/plain": [
       "T    314\n",
       "A     36\n",
       "Name: Pstatus, dtype: int64"
      ]
     },
     "execution_count": 545,
     "metadata": {},
     "output_type": "execute_result"
    }
   ],
   "source": [
    "unicef.Pstatus.value_counts()"
   ]
  },
  {
   "cell_type": "code",
   "execution_count": 546,
   "id": "c692e408",
   "metadata": {},
   "outputs": [
    {
     "data": {
      "text/plain": [
       "famsize  Pstatus\n",
       "GT3      T          213\n",
       "         A           20\n",
       "LE3      T           81\n",
       "         A           13\n",
       "Name: Pstatus, dtype: int64"
      ]
     },
     "execution_count": 546,
     "metadata": {},
     "output_type": "execute_result"
    }
   ],
   "source": [
    "unicef.groupby(by = ['famsize'])['Pstatus'].value_counts()\n",
    "# получается вместе большинство семей где размер больше 3 живут вместе "
   ]
  },
  {
   "cell_type": "code",
   "execution_count": 547,
   "id": "497025b5",
   "metadata": {},
   "outputs": [],
   "source": [
    "# от этой зависимость заполним famsize \n",
    "# но перед этим заполним  Pstatus "
   ]
  },
  {
   "cell_type": "code",
   "execution_count": 548,
   "id": "a279b58f",
   "metadata": {},
   "outputs": [],
   "source": [
    "# дозаполним большинством что живут вместе\n",
    "unicef['Pstatus'].fillna('T')\n",
    "unicef['Pstatus'].fillna(unicef['Pstatus'].value_counts().index[0], inplace = True)"
   ]
  },
  {
   "cell_type": "code",
   "execution_count": 549,
   "id": "efb4557f",
   "metadata": {},
   "outputs": [
    {
     "data": {
      "text/html": [
       "<div>\n",
       "<style scoped>\n",
       "    .dataframe tbody tr th:only-of-type {\n",
       "        vertical-align: middle;\n",
       "    }\n",
       "\n",
       "    .dataframe tbody tr th {\n",
       "        vertical-align: top;\n",
       "    }\n",
       "\n",
       "    .dataframe thead th {\n",
       "        text-align: right;\n",
       "    }\n",
       "</style>\n",
       "<table border=\"1\" class=\"dataframe\">\n",
       "  <thead>\n",
       "    <tr style=\"text-align: right;\">\n",
       "      <th></th>\n",
       "      <th>0</th>\n",
       "      <th>1</th>\n",
       "      <th>2</th>\n",
       "      <th>3</th>\n",
       "      <th>4</th>\n",
       "      <th>5</th>\n",
       "      <th>6</th>\n",
       "      <th>7</th>\n",
       "      <th>8</th>\n",
       "      <th>9</th>\n",
       "      <th>...</th>\n",
       "      <th>385</th>\n",
       "      <th>386</th>\n",
       "      <th>387</th>\n",
       "      <th>388</th>\n",
       "      <th>389</th>\n",
       "      <th>390</th>\n",
       "      <th>391</th>\n",
       "      <th>392</th>\n",
       "      <th>393</th>\n",
       "      <th>394</th>\n",
       "    </tr>\n",
       "  </thead>\n",
       "  <tbody>\n",
       "    <tr>\n",
       "      <th>sex</th>\n",
       "      <td>F</td>\n",
       "      <td>F</td>\n",
       "      <td>F</td>\n",
       "      <td>F</td>\n",
       "      <td>F</td>\n",
       "      <td>M</td>\n",
       "      <td>M</td>\n",
       "      <td>F</td>\n",
       "      <td>M</td>\n",
       "      <td>M</td>\n",
       "      <td>...</td>\n",
       "      <td>F</td>\n",
       "      <td>F</td>\n",
       "      <td>F</td>\n",
       "      <td>F</td>\n",
       "      <td>F</td>\n",
       "      <td>M</td>\n",
       "      <td>M</td>\n",
       "      <td>M</td>\n",
       "      <td>M</td>\n",
       "      <td>M</td>\n",
       "    </tr>\n",
       "    <tr>\n",
       "      <th>age</th>\n",
       "      <td>18</td>\n",
       "      <td>17</td>\n",
       "      <td>15</td>\n",
       "      <td>15</td>\n",
       "      <td>16</td>\n",
       "      <td>16</td>\n",
       "      <td>16</td>\n",
       "      <td>17</td>\n",
       "      <td>15</td>\n",
       "      <td>15</td>\n",
       "      <td>...</td>\n",
       "      <td>18</td>\n",
       "      <td>18</td>\n",
       "      <td>19</td>\n",
       "      <td>18</td>\n",
       "      <td>18</td>\n",
       "      <td>20</td>\n",
       "      <td>17</td>\n",
       "      <td>21</td>\n",
       "      <td>18</td>\n",
       "      <td>19</td>\n",
       "    </tr>\n",
       "    <tr>\n",
       "      <th>address</th>\n",
       "      <td>U</td>\n",
       "      <td>U</td>\n",
       "      <td>U</td>\n",
       "      <td>U</td>\n",
       "      <td>U</td>\n",
       "      <td>U</td>\n",
       "      <td>U</td>\n",
       "      <td>U</td>\n",
       "      <td>U</td>\n",
       "      <td>U</td>\n",
       "      <td>...</td>\n",
       "      <td>R</td>\n",
       "      <td>R</td>\n",
       "      <td>R</td>\n",
       "      <td>U</td>\n",
       "      <td>U</td>\n",
       "      <td>U</td>\n",
       "      <td>U</td>\n",
       "      <td>R</td>\n",
       "      <td>R</td>\n",
       "      <td>U</td>\n",
       "    </tr>\n",
       "    <tr>\n",
       "      <th>famsize</th>\n",
       "      <td>NaN</td>\n",
       "      <td>GT3</td>\n",
       "      <td>LE3</td>\n",
       "      <td>GT3</td>\n",
       "      <td>GT3</td>\n",
       "      <td>LE3</td>\n",
       "      <td>LE3</td>\n",
       "      <td>GT3</td>\n",
       "      <td>LE3</td>\n",
       "      <td>NaN</td>\n",
       "      <td>...</td>\n",
       "      <td>GT3</td>\n",
       "      <td>GT3</td>\n",
       "      <td>GT3</td>\n",
       "      <td>LE3</td>\n",
       "      <td>GT3</td>\n",
       "      <td>LE3</td>\n",
       "      <td>LE3</td>\n",
       "      <td>GT3</td>\n",
       "      <td>LE3</td>\n",
       "      <td>LE3</td>\n",
       "    </tr>\n",
       "    <tr>\n",
       "      <th>Pstatus</th>\n",
       "      <td>A</td>\n",
       "      <td>T</td>\n",
       "      <td>T</td>\n",
       "      <td>T</td>\n",
       "      <td>T</td>\n",
       "      <td>T</td>\n",
       "      <td>T</td>\n",
       "      <td>A</td>\n",
       "      <td>A</td>\n",
       "      <td>T</td>\n",
       "      <td>...</td>\n",
       "      <td>T</td>\n",
       "      <td>T</td>\n",
       "      <td>T</td>\n",
       "      <td>T</td>\n",
       "      <td>T</td>\n",
       "      <td>A</td>\n",
       "      <td>T</td>\n",
       "      <td>T</td>\n",
       "      <td>T</td>\n",
       "      <td>T</td>\n",
       "    </tr>\n",
       "    <tr>\n",
       "      <th>Medu</th>\n",
       "      <td>4.0</td>\n",
       "      <td>1.0</td>\n",
       "      <td>1.0</td>\n",
       "      <td>4.0</td>\n",
       "      <td>3.0</td>\n",
       "      <td>4.0</td>\n",
       "      <td>2.0</td>\n",
       "      <td>4.0</td>\n",
       "      <td>3.0</td>\n",
       "      <td>3.0</td>\n",
       "      <td>...</td>\n",
       "      <td>2.0</td>\n",
       "      <td>4.0</td>\n",
       "      <td>2.0</td>\n",
       "      <td>3.0</td>\n",
       "      <td>1.0</td>\n",
       "      <td>2.0</td>\n",
       "      <td>3.0</td>\n",
       "      <td>1.0</td>\n",
       "      <td>3.0</td>\n",
       "      <td>1.0</td>\n",
       "    </tr>\n",
       "    <tr>\n",
       "      <th>Fedu</th>\n",
       "      <td>4.0</td>\n",
       "      <td>1.0</td>\n",
       "      <td>1.0</td>\n",
       "      <td>2.0</td>\n",
       "      <td>3.0</td>\n",
       "      <td>3.0</td>\n",
       "      <td>2.0</td>\n",
       "      <td>4.0</td>\n",
       "      <td>2.0</td>\n",
       "      <td>4.0</td>\n",
       "      <td>...</td>\n",
       "      <td>2.0</td>\n",
       "      <td>4.0</td>\n",
       "      <td>3.0</td>\n",
       "      <td>1.0</td>\n",
       "      <td>1.0</td>\n",
       "      <td>2.0</td>\n",
       "      <td>1.0</td>\n",
       "      <td>1.0</td>\n",
       "      <td>2.0</td>\n",
       "      <td>1.0</td>\n",
       "    </tr>\n",
       "    <tr>\n",
       "      <th>Mjob</th>\n",
       "      <td>at_home</td>\n",
       "      <td>at_home</td>\n",
       "      <td>at_home</td>\n",
       "      <td>health</td>\n",
       "      <td>other</td>\n",
       "      <td>services</td>\n",
       "      <td>other</td>\n",
       "      <td>other</td>\n",
       "      <td>services</td>\n",
       "      <td>other</td>\n",
       "      <td>...</td>\n",
       "      <td>at_home</td>\n",
       "      <td>teacher</td>\n",
       "      <td>services</td>\n",
       "      <td>teacher</td>\n",
       "      <td>other</td>\n",
       "      <td>services</td>\n",
       "      <td>services</td>\n",
       "      <td>other</td>\n",
       "      <td>services</td>\n",
       "      <td>other</td>\n",
       "    </tr>\n",
       "    <tr>\n",
       "      <th>Fjob</th>\n",
       "      <td>teacher</td>\n",
       "      <td>other</td>\n",
       "      <td>other</td>\n",
       "      <td>NaN</td>\n",
       "      <td>other</td>\n",
       "      <td>other</td>\n",
       "      <td>other</td>\n",
       "      <td>teacher</td>\n",
       "      <td>other</td>\n",
       "      <td>other</td>\n",
       "      <td>...</td>\n",
       "      <td>other</td>\n",
       "      <td>at_home</td>\n",
       "      <td>other</td>\n",
       "      <td>services</td>\n",
       "      <td>other</td>\n",
       "      <td>services</td>\n",
       "      <td>services</td>\n",
       "      <td>other</td>\n",
       "      <td>other</td>\n",
       "      <td>at_home</td>\n",
       "    </tr>\n",
       "    <tr>\n",
       "      <th>reason</th>\n",
       "      <td>course</td>\n",
       "      <td>course</td>\n",
       "      <td>other</td>\n",
       "      <td>home</td>\n",
       "      <td>home</td>\n",
       "      <td>reputation</td>\n",
       "      <td>home</td>\n",
       "      <td>home</td>\n",
       "      <td>home</td>\n",
       "      <td>home</td>\n",
       "      <td>...</td>\n",
       "      <td>other</td>\n",
       "      <td>reputation</td>\n",
       "      <td>course</td>\n",
       "      <td>course</td>\n",
       "      <td>course</td>\n",
       "      <td>course</td>\n",
       "      <td>course</td>\n",
       "      <td>course</td>\n",
       "      <td>course</td>\n",
       "      <td>NaN</td>\n",
       "    </tr>\n",
       "    <tr>\n",
       "      <th>guardian</th>\n",
       "      <td>mother</td>\n",
       "      <td>father</td>\n",
       "      <td>mother</td>\n",
       "      <td>mother</td>\n",
       "      <td>father</td>\n",
       "      <td>mother</td>\n",
       "      <td>mother</td>\n",
       "      <td>mother</td>\n",
       "      <td>mother</td>\n",
       "      <td>mother</td>\n",
       "      <td>...</td>\n",
       "      <td>NaN</td>\n",
       "      <td>mother</td>\n",
       "      <td>mother</td>\n",
       "      <td>mother</td>\n",
       "      <td>mother</td>\n",
       "      <td>NaN</td>\n",
       "      <td>mother</td>\n",
       "      <td>NaN</td>\n",
       "      <td>mother</td>\n",
       "      <td>father</td>\n",
       "    </tr>\n",
       "    <tr>\n",
       "      <th>traveltime</th>\n",
       "      <td>2.0</td>\n",
       "      <td>1.0</td>\n",
       "      <td>1.0</td>\n",
       "      <td>1.0</td>\n",
       "      <td>1.0</td>\n",
       "      <td>1.0</td>\n",
       "      <td>1.0</td>\n",
       "      <td>2.0</td>\n",
       "      <td>1.0</td>\n",
       "      <td>1.0</td>\n",
       "      <td>...</td>\n",
       "      <td>NaN</td>\n",
       "      <td>3.0</td>\n",
       "      <td>1.0</td>\n",
       "      <td>1.0</td>\n",
       "      <td>NaN</td>\n",
       "      <td>1.0</td>\n",
       "      <td>2.0</td>\n",
       "      <td>1.0</td>\n",
       "      <td>3.0</td>\n",
       "      <td>1.0</td>\n",
       "    </tr>\n",
       "    <tr>\n",
       "      <th>studytime</th>\n",
       "      <td>2.0</td>\n",
       "      <td>2.0</td>\n",
       "      <td>2.0</td>\n",
       "      <td>3.0</td>\n",
       "      <td>2.0</td>\n",
       "      <td>2.0</td>\n",
       "      <td>2.0</td>\n",
       "      <td>2.0</td>\n",
       "      <td>2.0</td>\n",
       "      <td>2.0</td>\n",
       "      <td>...</td>\n",
       "      <td>3.0</td>\n",
       "      <td>1.0</td>\n",
       "      <td>3.0</td>\n",
       "      <td>2.0</td>\n",
       "      <td>2.0</td>\n",
       "      <td>2.0</td>\n",
       "      <td>1.0</td>\n",
       "      <td>1.0</td>\n",
       "      <td>1.0</td>\n",
       "      <td>1.0</td>\n",
       "    </tr>\n",
       "    <tr>\n",
       "      <th>failures</th>\n",
       "      <td>0.0</td>\n",
       "      <td>0.0</td>\n",
       "      <td>3.0</td>\n",
       "      <td>0.0</td>\n",
       "      <td>0.0</td>\n",
       "      <td>0.0</td>\n",
       "      <td>0.0</td>\n",
       "      <td>0.0</td>\n",
       "      <td>0.0</td>\n",
       "      <td>0.0</td>\n",
       "      <td>...</td>\n",
       "      <td>0.0</td>\n",
       "      <td>0.0</td>\n",
       "      <td>1.0</td>\n",
       "      <td>0.0</td>\n",
       "      <td>1.0</td>\n",
       "      <td>2.0</td>\n",
       "      <td>0.0</td>\n",
       "      <td>3.0</td>\n",
       "      <td>0.0</td>\n",
       "      <td>0.0</td>\n",
       "    </tr>\n",
       "    <tr>\n",
       "      <th>schoolsup</th>\n",
       "      <td>yes</td>\n",
       "      <td>no</td>\n",
       "      <td>yes</td>\n",
       "      <td>no</td>\n",
       "      <td>no</td>\n",
       "      <td>no</td>\n",
       "      <td>no</td>\n",
       "      <td>yes</td>\n",
       "      <td>no</td>\n",
       "      <td>no</td>\n",
       "      <td>...</td>\n",
       "      <td>no</td>\n",
       "      <td>no</td>\n",
       "      <td>no</td>\n",
       "      <td>no</td>\n",
       "      <td>no</td>\n",
       "      <td>no</td>\n",
       "      <td>no</td>\n",
       "      <td>NaN</td>\n",
       "      <td>no</td>\n",
       "      <td>NaN</td>\n",
       "    </tr>\n",
       "    <tr>\n",
       "      <th>famsup</th>\n",
       "      <td>no</td>\n",
       "      <td>yes</td>\n",
       "      <td>no</td>\n",
       "      <td>yes</td>\n",
       "      <td>yes</td>\n",
       "      <td>yes</td>\n",
       "      <td>no</td>\n",
       "      <td>yes</td>\n",
       "      <td>yes</td>\n",
       "      <td>yes</td>\n",
       "      <td>...</td>\n",
       "      <td>no</td>\n",
       "      <td>yes</td>\n",
       "      <td>no</td>\n",
       "      <td>yes</td>\n",
       "      <td>no</td>\n",
       "      <td>yes</td>\n",
       "      <td>no</td>\n",
       "      <td>no</td>\n",
       "      <td>no</td>\n",
       "      <td>no</td>\n",
       "    </tr>\n",
       "    <tr>\n",
       "      <th>paid</th>\n",
       "      <td>no</td>\n",
       "      <td>no</td>\n",
       "      <td>NaN</td>\n",
       "      <td>yes</td>\n",
       "      <td>yes</td>\n",
       "      <td>yes</td>\n",
       "      <td>no</td>\n",
       "      <td>no</td>\n",
       "      <td>yes</td>\n",
       "      <td>yes</td>\n",
       "      <td>...</td>\n",
       "      <td>yes</td>\n",
       "      <td>yes</td>\n",
       "      <td>no</td>\n",
       "      <td>yes</td>\n",
       "      <td>no</td>\n",
       "      <td>yes</td>\n",
       "      <td>no</td>\n",
       "      <td>no</td>\n",
       "      <td>no</td>\n",
       "      <td>no</td>\n",
       "    </tr>\n",
       "    <tr>\n",
       "      <th>activities</th>\n",
       "      <td>no</td>\n",
       "      <td>no</td>\n",
       "      <td>no</td>\n",
       "      <td>yes</td>\n",
       "      <td>no</td>\n",
       "      <td>yes</td>\n",
       "      <td>no</td>\n",
       "      <td>no</td>\n",
       "      <td>no</td>\n",
       "      <td>yes</td>\n",
       "      <td>...</td>\n",
       "      <td>no</td>\n",
       "      <td>yes</td>\n",
       "      <td>yes</td>\n",
       "      <td>no</td>\n",
       "      <td>yes</td>\n",
       "      <td>no</td>\n",
       "      <td>no</td>\n",
       "      <td>no</td>\n",
       "      <td>NaN</td>\n",
       "      <td>no</td>\n",
       "    </tr>\n",
       "    <tr>\n",
       "      <th>nursery</th>\n",
       "      <td>yes</td>\n",
       "      <td>no</td>\n",
       "      <td>yes</td>\n",
       "      <td>yes</td>\n",
       "      <td>yes</td>\n",
       "      <td>yes</td>\n",
       "      <td>yes</td>\n",
       "      <td>yes</td>\n",
       "      <td>yes</td>\n",
       "      <td>yes</td>\n",
       "      <td>...</td>\n",
       "      <td>yes</td>\n",
       "      <td>yes</td>\n",
       "      <td>no</td>\n",
       "      <td>yes</td>\n",
       "      <td>yes</td>\n",
       "      <td>yes</td>\n",
       "      <td>no</td>\n",
       "      <td>no</td>\n",
       "      <td>no</td>\n",
       "      <td>yes</td>\n",
       "    </tr>\n",
       "    <tr>\n",
       "      <th>higher</th>\n",
       "      <td>yes</td>\n",
       "      <td>yes</td>\n",
       "      <td>yes</td>\n",
       "      <td>yes</td>\n",
       "      <td>yes</td>\n",
       "      <td>yes</td>\n",
       "      <td>yes</td>\n",
       "      <td>yes</td>\n",
       "      <td>yes</td>\n",
       "      <td>yes</td>\n",
       "      <td>...</td>\n",
       "      <td>yes</td>\n",
       "      <td>yes</td>\n",
       "      <td>yes</td>\n",
       "      <td>yes</td>\n",
       "      <td>yes</td>\n",
       "      <td>yes</td>\n",
       "      <td>yes</td>\n",
       "      <td>NaN</td>\n",
       "      <td>yes</td>\n",
       "      <td>yes</td>\n",
       "    </tr>\n",
       "    <tr>\n",
       "      <th>internet</th>\n",
       "      <td>NaN</td>\n",
       "      <td>yes</td>\n",
       "      <td>yes</td>\n",
       "      <td>yes</td>\n",
       "      <td>no</td>\n",
       "      <td>yes</td>\n",
       "      <td>yes</td>\n",
       "      <td>no</td>\n",
       "      <td>yes</td>\n",
       "      <td>yes</td>\n",
       "      <td>...</td>\n",
       "      <td>NaN</td>\n",
       "      <td>yes</td>\n",
       "      <td>yes</td>\n",
       "      <td>yes</td>\n",
       "      <td>NaN</td>\n",
       "      <td>no</td>\n",
       "      <td>yes</td>\n",
       "      <td>no</td>\n",
       "      <td>yes</td>\n",
       "      <td>yes</td>\n",
       "    </tr>\n",
       "    <tr>\n",
       "      <th>romantic</th>\n",
       "      <td>no</td>\n",
       "      <td>no</td>\n",
       "      <td>NaN</td>\n",
       "      <td>yes</td>\n",
       "      <td>no</td>\n",
       "      <td>no</td>\n",
       "      <td>no</td>\n",
       "      <td>no</td>\n",
       "      <td>no</td>\n",
       "      <td>no</td>\n",
       "      <td>...</td>\n",
       "      <td>no</td>\n",
       "      <td>yes</td>\n",
       "      <td>no</td>\n",
       "      <td>no</td>\n",
       "      <td>no</td>\n",
       "      <td>no</td>\n",
       "      <td>no</td>\n",
       "      <td>no</td>\n",
       "      <td>no</td>\n",
       "      <td>no</td>\n",
       "    </tr>\n",
       "    <tr>\n",
       "      <th>famrel</th>\n",
       "      <td>4.0</td>\n",
       "      <td>5.0</td>\n",
       "      <td>4.0</td>\n",
       "      <td>3.0</td>\n",
       "      <td>4.0</td>\n",
       "      <td>5.0</td>\n",
       "      <td>4.0</td>\n",
       "      <td>4.0</td>\n",
       "      <td>NaN</td>\n",
       "      <td>5.0</td>\n",
       "      <td>...</td>\n",
       "      <td>5.0</td>\n",
       "      <td>4.0</td>\n",
       "      <td>5.0</td>\n",
       "      <td>4.0</td>\n",
       "      <td>1.0</td>\n",
       "      <td>5.0</td>\n",
       "      <td>2.0</td>\n",
       "      <td>5.0</td>\n",
       "      <td>4.0</td>\n",
       "      <td>3.0</td>\n",
       "    </tr>\n",
       "    <tr>\n",
       "      <th>freetime</th>\n",
       "      <td>3.0</td>\n",
       "      <td>3.0</td>\n",
       "      <td>3.0</td>\n",
       "      <td>2.0</td>\n",
       "      <td>3.0</td>\n",
       "      <td>4.0</td>\n",
       "      <td>4.0</td>\n",
       "      <td>1.0</td>\n",
       "      <td>2.0</td>\n",
       "      <td>5.0</td>\n",
       "      <td>...</td>\n",
       "      <td>3.0</td>\n",
       "      <td>4.0</td>\n",
       "      <td>4.0</td>\n",
       "      <td>3.0</td>\n",
       "      <td>1.0</td>\n",
       "      <td>5.0</td>\n",
       "      <td>4.0</td>\n",
       "      <td>5.0</td>\n",
       "      <td>4.0</td>\n",
       "      <td>2.0</td>\n",
       "    </tr>\n",
       "    <tr>\n",
       "      <th>goout</th>\n",
       "      <td>4.0</td>\n",
       "      <td>3.0</td>\n",
       "      <td>2.0</td>\n",
       "      <td>2.0</td>\n",
       "      <td>2.0</td>\n",
       "      <td>2.0</td>\n",
       "      <td>4.0</td>\n",
       "      <td>4.0</td>\n",
       "      <td>2.0</td>\n",
       "      <td>1.0</td>\n",
       "      <td>...</td>\n",
       "      <td>3.0</td>\n",
       "      <td>3.0</td>\n",
       "      <td>2.0</td>\n",
       "      <td>4.0</td>\n",
       "      <td>1.0</td>\n",
       "      <td>4.0</td>\n",
       "      <td>5.0</td>\n",
       "      <td>3.0</td>\n",
       "      <td>1.0</td>\n",
       "      <td>3.0</td>\n",
       "    </tr>\n",
       "    <tr>\n",
       "      <th>health</th>\n",
       "      <td>3.0</td>\n",
       "      <td>3.0</td>\n",
       "      <td>3.0</td>\n",
       "      <td>5.0</td>\n",
       "      <td>5.0</td>\n",
       "      <td>5.0</td>\n",
       "      <td>3.0</td>\n",
       "      <td>1.0</td>\n",
       "      <td>1.0</td>\n",
       "      <td>5.0</td>\n",
       "      <td>...</td>\n",
       "      <td>4.0</td>\n",
       "      <td>5.0</td>\n",
       "      <td>5.0</td>\n",
       "      <td>1.0</td>\n",
       "      <td>5.0</td>\n",
       "      <td>4.0</td>\n",
       "      <td>2.0</td>\n",
       "      <td>3.0</td>\n",
       "      <td>5.0</td>\n",
       "      <td>5.0</td>\n",
       "    </tr>\n",
       "    <tr>\n",
       "      <th>absences</th>\n",
       "      <td>6.0</td>\n",
       "      <td>4.0</td>\n",
       "      <td>10.0</td>\n",
       "      <td>2.0</td>\n",
       "      <td>4.0</td>\n",
       "      <td>10.0</td>\n",
       "      <td>0.0</td>\n",
       "      <td>6.0</td>\n",
       "      <td>0.0</td>\n",
       "      <td>0.0</td>\n",
       "      <td>...</td>\n",
       "      <td>2.0</td>\n",
       "      <td>7.0</td>\n",
       "      <td>0.0</td>\n",
       "      <td>0.0</td>\n",
       "      <td>0.0</td>\n",
       "      <td>212.0</td>\n",
       "      <td>3.0</td>\n",
       "      <td>3.0</td>\n",
       "      <td>0.0</td>\n",
       "      <td>5.0</td>\n",
       "    </tr>\n",
       "    <tr>\n",
       "      <th>score</th>\n",
       "      <td>30.0</td>\n",
       "      <td>30.0</td>\n",
       "      <td>50.0</td>\n",
       "      <td>75.0</td>\n",
       "      <td>50.0</td>\n",
       "      <td>75.0</td>\n",
       "      <td>55.0</td>\n",
       "      <td>30.0</td>\n",
       "      <td>95.0</td>\n",
       "      <td>75.0</td>\n",
       "      <td>...</td>\n",
       "      <td>50.0</td>\n",
       "      <td>30.0</td>\n",
       "      <td>0.0</td>\n",
       "      <td>40.0</td>\n",
       "      <td>0.0</td>\n",
       "      <td>45.0</td>\n",
       "      <td>80.0</td>\n",
       "      <td>35.0</td>\n",
       "      <td>50.0</td>\n",
       "      <td>45.0</td>\n",
       "    </tr>\n",
       "  </tbody>\n",
       "</table>\n",
       "<p>28 rows × 395 columns</p>\n",
       "</div>"
      ],
      "text/plain": [
       "                0        1        2       3       4           5       6    \\\n",
       "sex               F        F        F       F       F           M       M   \n",
       "age              18       17       15      15      16          16      16   \n",
       "address           U        U        U       U       U           U       U   \n",
       "famsize         NaN      GT3      LE3     GT3     GT3         LE3     LE3   \n",
       "Pstatus           A        T        T       T       T           T       T   \n",
       "Medu            4.0      1.0      1.0     4.0     3.0         4.0     2.0   \n",
       "Fedu            4.0      1.0      1.0     2.0     3.0         3.0     2.0   \n",
       "Mjob        at_home  at_home  at_home  health   other    services   other   \n",
       "Fjob        teacher    other    other     NaN   other       other   other   \n",
       "reason       course   course    other    home    home  reputation    home   \n",
       "guardian     mother   father   mother  mother  father      mother  mother   \n",
       "traveltime      2.0      1.0      1.0     1.0     1.0         1.0     1.0   \n",
       "studytime       2.0      2.0      2.0     3.0     2.0         2.0     2.0   \n",
       "failures        0.0      0.0      3.0     0.0     0.0         0.0     0.0   \n",
       "schoolsup       yes       no      yes      no      no          no      no   \n",
       "famsup           no      yes       no     yes     yes         yes      no   \n",
       "paid             no       no      NaN     yes     yes         yes      no   \n",
       "activities       no       no       no     yes      no         yes      no   \n",
       "nursery         yes       no      yes     yes     yes         yes     yes   \n",
       "higher          yes      yes      yes     yes     yes         yes     yes   \n",
       "internet        NaN      yes      yes     yes      no         yes     yes   \n",
       "romantic         no       no      NaN     yes      no          no      no   \n",
       "famrel          4.0      5.0      4.0     3.0     4.0         5.0     4.0   \n",
       "freetime        3.0      3.0      3.0     2.0     3.0         4.0     4.0   \n",
       "goout           4.0      3.0      2.0     2.0     2.0         2.0     4.0   \n",
       "health          3.0      3.0      3.0     5.0     5.0         5.0     3.0   \n",
       "absences        6.0      4.0     10.0     2.0     4.0        10.0     0.0   \n",
       "score          30.0     30.0     50.0    75.0    50.0        75.0    55.0   \n",
       "\n",
       "                7         8       9    ...      385         386       387  \\\n",
       "sex               F         M       M  ...        F           F         F   \n",
       "age              17        15      15  ...       18          18        19   \n",
       "address           U         U       U  ...        R           R         R   \n",
       "famsize         GT3       LE3     NaN  ...      GT3         GT3       GT3   \n",
       "Pstatus           A         A       T  ...        T           T         T   \n",
       "Medu            4.0       3.0     3.0  ...      2.0         4.0       2.0   \n",
       "Fedu            4.0       2.0     4.0  ...      2.0         4.0       3.0   \n",
       "Mjob          other  services   other  ...  at_home     teacher  services   \n",
       "Fjob        teacher     other   other  ...    other     at_home     other   \n",
       "reason         home      home    home  ...    other  reputation    course   \n",
       "guardian     mother    mother  mother  ...      NaN      mother    mother   \n",
       "traveltime      2.0       1.0     1.0  ...      NaN         3.0       1.0   \n",
       "studytime       2.0       2.0     2.0  ...      3.0         1.0       3.0   \n",
       "failures        0.0       0.0     0.0  ...      0.0         0.0       1.0   \n",
       "schoolsup       yes        no      no  ...       no          no        no   \n",
       "famsup          yes       yes     yes  ...       no         yes        no   \n",
       "paid             no       yes     yes  ...      yes         yes        no   \n",
       "activities       no        no     yes  ...       no         yes       yes   \n",
       "nursery         yes       yes     yes  ...      yes         yes        no   \n",
       "higher          yes       yes     yes  ...      yes         yes       yes   \n",
       "internet         no       yes     yes  ...      NaN         yes       yes   \n",
       "romantic         no        no      no  ...       no         yes        no   \n",
       "famrel          4.0       NaN     5.0  ...      5.0         4.0       5.0   \n",
       "freetime        1.0       2.0     5.0  ...      3.0         4.0       4.0   \n",
       "goout           4.0       2.0     1.0  ...      3.0         3.0       2.0   \n",
       "health          1.0       1.0     5.0  ...      4.0         5.0       5.0   \n",
       "absences        6.0       0.0     0.0  ...      2.0         7.0       0.0   \n",
       "score          30.0      95.0    75.0  ...     50.0        30.0       0.0   \n",
       "\n",
       "                 388     389       390       391     392       393      394  \n",
       "sex                F       F         M         M       M         M        M  \n",
       "age               18      18        20        17      21        18       19  \n",
       "address            U       U         U         U       R         R        U  \n",
       "famsize          LE3     GT3       LE3       LE3     GT3       LE3      LE3  \n",
       "Pstatus            T       T         A         T       T         T        T  \n",
       "Medu             3.0     1.0       2.0       3.0     1.0       3.0      1.0  \n",
       "Fedu             1.0     1.0       2.0       1.0     1.0       2.0      1.0  \n",
       "Mjob         teacher   other  services  services   other  services    other  \n",
       "Fjob        services   other  services  services   other     other  at_home  \n",
       "reason        course  course    course    course  course    course      NaN  \n",
       "guardian      mother  mother       NaN    mother     NaN    mother   father  \n",
       "traveltime       1.0     NaN       1.0       2.0     1.0       3.0      1.0  \n",
       "studytime        2.0     2.0       2.0       1.0     1.0       1.0      1.0  \n",
       "failures         0.0     1.0       2.0       0.0     3.0       0.0      0.0  \n",
       "schoolsup         no      no        no        no     NaN        no      NaN  \n",
       "famsup           yes      no       yes        no      no        no       no  \n",
       "paid             yes      no       yes        no      no        no       no  \n",
       "activities        no     yes        no        no      no       NaN       no  \n",
       "nursery          yes     yes       yes        no      no        no      yes  \n",
       "higher           yes     yes       yes       yes     NaN       yes      yes  \n",
       "internet         yes     NaN        no       yes      no       yes      yes  \n",
       "romantic          no      no        no        no      no        no       no  \n",
       "famrel           4.0     1.0       5.0       2.0     5.0       4.0      3.0  \n",
       "freetime         3.0     1.0       5.0       4.0     5.0       4.0      2.0  \n",
       "goout            4.0     1.0       4.0       5.0     3.0       1.0      3.0  \n",
       "health           1.0     5.0       4.0       2.0     3.0       5.0      5.0  \n",
       "absences         0.0     0.0     212.0       3.0     3.0       0.0      5.0  \n",
       "score           40.0     0.0      45.0      80.0    35.0      50.0     45.0  \n",
       "\n",
       "[28 rows x 395 columns]"
      ]
     },
     "execution_count": 549,
     "metadata": {},
     "output_type": "execute_result"
    }
   ],
   "source": [
    "unicef.T"
   ]
  },
  {
   "cell_type": "code",
   "execution_count": 550,
   "id": "1778c34c",
   "metadata": {},
   "outputs": [],
   "source": [
    "unicef.famsize = unicef[['famsize', 'Pstatus']].apply(lambda x: 'GT3' if x[1]=='T' and pd.isnull(x[0]) else 'LE3' if x[1]=='A' and pd.isnull(x[0]) else x[0], axis=1)"
   ]
  },
  {
   "cell_type": "code",
   "execution_count": 551,
   "id": "6971e692",
   "metadata": {},
   "outputs": [
    {
     "data": {
      "text/html": [
       "<div>\n",
       "<style scoped>\n",
       "    .dataframe tbody tr th:only-of-type {\n",
       "        vertical-align: middle;\n",
       "    }\n",
       "\n",
       "    .dataframe tbody tr th {\n",
       "        vertical-align: top;\n",
       "    }\n",
       "\n",
       "    .dataframe thead th {\n",
       "        text-align: right;\n",
       "    }\n",
       "</style>\n",
       "<table border=\"1\" class=\"dataframe\">\n",
       "  <thead>\n",
       "    <tr style=\"text-align: right;\">\n",
       "      <th></th>\n",
       "      <th>sex</th>\n",
       "      <th>age</th>\n",
       "      <th>address</th>\n",
       "      <th>famsize</th>\n",
       "      <th>Pstatus</th>\n",
       "      <th>Medu</th>\n",
       "      <th>Fedu</th>\n",
       "      <th>Mjob</th>\n",
       "      <th>Fjob</th>\n",
       "      <th>reason</th>\n",
       "      <th>...</th>\n",
       "      <th>nursery</th>\n",
       "      <th>higher</th>\n",
       "      <th>internet</th>\n",
       "      <th>romantic</th>\n",
       "      <th>famrel</th>\n",
       "      <th>freetime</th>\n",
       "      <th>goout</th>\n",
       "      <th>health</th>\n",
       "      <th>absences</th>\n",
       "      <th>score</th>\n",
       "    </tr>\n",
       "  </thead>\n",
       "  <tbody>\n",
       "    <tr>\n",
       "      <th>0</th>\n",
       "      <td>F</td>\n",
       "      <td>18</td>\n",
       "      <td>U</td>\n",
       "      <td>LE3</td>\n",
       "      <td>A</td>\n",
       "      <td>4.0</td>\n",
       "      <td>4.0</td>\n",
       "      <td>at_home</td>\n",
       "      <td>teacher</td>\n",
       "      <td>course</td>\n",
       "      <td>...</td>\n",
       "      <td>yes</td>\n",
       "      <td>yes</td>\n",
       "      <td>NaN</td>\n",
       "      <td>no</td>\n",
       "      <td>4.0</td>\n",
       "      <td>3.0</td>\n",
       "      <td>4.0</td>\n",
       "      <td>3.0</td>\n",
       "      <td>6.0</td>\n",
       "      <td>30.0</td>\n",
       "    </tr>\n",
       "    <tr>\n",
       "      <th>1</th>\n",
       "      <td>F</td>\n",
       "      <td>17</td>\n",
       "      <td>U</td>\n",
       "      <td>GT3</td>\n",
       "      <td>T</td>\n",
       "      <td>1.0</td>\n",
       "      <td>1.0</td>\n",
       "      <td>at_home</td>\n",
       "      <td>other</td>\n",
       "      <td>course</td>\n",
       "      <td>...</td>\n",
       "      <td>no</td>\n",
       "      <td>yes</td>\n",
       "      <td>yes</td>\n",
       "      <td>no</td>\n",
       "      <td>5.0</td>\n",
       "      <td>3.0</td>\n",
       "      <td>3.0</td>\n",
       "      <td>3.0</td>\n",
       "      <td>4.0</td>\n",
       "      <td>30.0</td>\n",
       "    </tr>\n",
       "    <tr>\n",
       "      <th>2</th>\n",
       "      <td>F</td>\n",
       "      <td>15</td>\n",
       "      <td>U</td>\n",
       "      <td>LE3</td>\n",
       "      <td>T</td>\n",
       "      <td>1.0</td>\n",
       "      <td>1.0</td>\n",
       "      <td>at_home</td>\n",
       "      <td>other</td>\n",
       "      <td>other</td>\n",
       "      <td>...</td>\n",
       "      <td>yes</td>\n",
       "      <td>yes</td>\n",
       "      <td>yes</td>\n",
       "      <td>NaN</td>\n",
       "      <td>4.0</td>\n",
       "      <td>3.0</td>\n",
       "      <td>2.0</td>\n",
       "      <td>3.0</td>\n",
       "      <td>10.0</td>\n",
       "      <td>50.0</td>\n",
       "    </tr>\n",
       "    <tr>\n",
       "      <th>3</th>\n",
       "      <td>F</td>\n",
       "      <td>15</td>\n",
       "      <td>U</td>\n",
       "      <td>GT3</td>\n",
       "      <td>T</td>\n",
       "      <td>4.0</td>\n",
       "      <td>2.0</td>\n",
       "      <td>health</td>\n",
       "      <td>NaN</td>\n",
       "      <td>home</td>\n",
       "      <td>...</td>\n",
       "      <td>yes</td>\n",
       "      <td>yes</td>\n",
       "      <td>yes</td>\n",
       "      <td>yes</td>\n",
       "      <td>3.0</td>\n",
       "      <td>2.0</td>\n",
       "      <td>2.0</td>\n",
       "      <td>5.0</td>\n",
       "      <td>2.0</td>\n",
       "      <td>75.0</td>\n",
       "    </tr>\n",
       "    <tr>\n",
       "      <th>4</th>\n",
       "      <td>F</td>\n",
       "      <td>16</td>\n",
       "      <td>U</td>\n",
       "      <td>GT3</td>\n",
       "      <td>T</td>\n",
       "      <td>3.0</td>\n",
       "      <td>3.0</td>\n",
       "      <td>other</td>\n",
       "      <td>other</td>\n",
       "      <td>home</td>\n",
       "      <td>...</td>\n",
       "      <td>yes</td>\n",
       "      <td>yes</td>\n",
       "      <td>no</td>\n",
       "      <td>no</td>\n",
       "      <td>4.0</td>\n",
       "      <td>3.0</td>\n",
       "      <td>2.0</td>\n",
       "      <td>5.0</td>\n",
       "      <td>4.0</td>\n",
       "      <td>50.0</td>\n",
       "    </tr>\n",
       "    <tr>\n",
       "      <th>5</th>\n",
       "      <td>M</td>\n",
       "      <td>16</td>\n",
       "      <td>U</td>\n",
       "      <td>LE3</td>\n",
       "      <td>T</td>\n",
       "      <td>4.0</td>\n",
       "      <td>3.0</td>\n",
       "      <td>services</td>\n",
       "      <td>other</td>\n",
       "      <td>reputation</td>\n",
       "      <td>...</td>\n",
       "      <td>yes</td>\n",
       "      <td>yes</td>\n",
       "      <td>yes</td>\n",
       "      <td>no</td>\n",
       "      <td>5.0</td>\n",
       "      <td>4.0</td>\n",
       "      <td>2.0</td>\n",
       "      <td>5.0</td>\n",
       "      <td>10.0</td>\n",
       "      <td>75.0</td>\n",
       "    </tr>\n",
       "    <tr>\n",
       "      <th>6</th>\n",
       "      <td>M</td>\n",
       "      <td>16</td>\n",
       "      <td>U</td>\n",
       "      <td>LE3</td>\n",
       "      <td>T</td>\n",
       "      <td>2.0</td>\n",
       "      <td>2.0</td>\n",
       "      <td>other</td>\n",
       "      <td>other</td>\n",
       "      <td>home</td>\n",
       "      <td>...</td>\n",
       "      <td>yes</td>\n",
       "      <td>yes</td>\n",
       "      <td>yes</td>\n",
       "      <td>no</td>\n",
       "      <td>4.0</td>\n",
       "      <td>4.0</td>\n",
       "      <td>4.0</td>\n",
       "      <td>3.0</td>\n",
       "      <td>0.0</td>\n",
       "      <td>55.0</td>\n",
       "    </tr>\n",
       "    <tr>\n",
       "      <th>7</th>\n",
       "      <td>F</td>\n",
       "      <td>17</td>\n",
       "      <td>U</td>\n",
       "      <td>GT3</td>\n",
       "      <td>A</td>\n",
       "      <td>4.0</td>\n",
       "      <td>4.0</td>\n",
       "      <td>other</td>\n",
       "      <td>teacher</td>\n",
       "      <td>home</td>\n",
       "      <td>...</td>\n",
       "      <td>yes</td>\n",
       "      <td>yes</td>\n",
       "      <td>no</td>\n",
       "      <td>no</td>\n",
       "      <td>4.0</td>\n",
       "      <td>1.0</td>\n",
       "      <td>4.0</td>\n",
       "      <td>1.0</td>\n",
       "      <td>6.0</td>\n",
       "      <td>30.0</td>\n",
       "    </tr>\n",
       "    <tr>\n",
       "      <th>8</th>\n",
       "      <td>M</td>\n",
       "      <td>15</td>\n",
       "      <td>U</td>\n",
       "      <td>LE3</td>\n",
       "      <td>A</td>\n",
       "      <td>3.0</td>\n",
       "      <td>2.0</td>\n",
       "      <td>services</td>\n",
       "      <td>other</td>\n",
       "      <td>home</td>\n",
       "      <td>...</td>\n",
       "      <td>yes</td>\n",
       "      <td>yes</td>\n",
       "      <td>yes</td>\n",
       "      <td>no</td>\n",
       "      <td>NaN</td>\n",
       "      <td>2.0</td>\n",
       "      <td>2.0</td>\n",
       "      <td>1.0</td>\n",
       "      <td>0.0</td>\n",
       "      <td>95.0</td>\n",
       "    </tr>\n",
       "    <tr>\n",
       "      <th>9</th>\n",
       "      <td>M</td>\n",
       "      <td>15</td>\n",
       "      <td>U</td>\n",
       "      <td>GT3</td>\n",
       "      <td>T</td>\n",
       "      <td>3.0</td>\n",
       "      <td>4.0</td>\n",
       "      <td>other</td>\n",
       "      <td>other</td>\n",
       "      <td>home</td>\n",
       "      <td>...</td>\n",
       "      <td>yes</td>\n",
       "      <td>yes</td>\n",
       "      <td>yes</td>\n",
       "      <td>no</td>\n",
       "      <td>5.0</td>\n",
       "      <td>5.0</td>\n",
       "      <td>1.0</td>\n",
       "      <td>5.0</td>\n",
       "      <td>0.0</td>\n",
       "      <td>75.0</td>\n",
       "    </tr>\n",
       "  </tbody>\n",
       "</table>\n",
       "<p>10 rows × 28 columns</p>\n",
       "</div>"
      ],
      "text/plain": [
       "  sex  age address famsize Pstatus  Medu  Fedu      Mjob     Fjob      reason  \\\n",
       "0   F   18       U     LE3       A   4.0   4.0   at_home  teacher      course   \n",
       "1   F   17       U     GT3       T   1.0   1.0   at_home    other      course   \n",
       "2   F   15       U     LE3       T   1.0   1.0   at_home    other       other   \n",
       "3   F   15       U     GT3       T   4.0   2.0    health      NaN        home   \n",
       "4   F   16       U     GT3       T   3.0   3.0     other    other        home   \n",
       "5   M   16       U     LE3       T   4.0   3.0  services    other  reputation   \n",
       "6   M   16       U     LE3       T   2.0   2.0     other    other        home   \n",
       "7   F   17       U     GT3       A   4.0   4.0     other  teacher        home   \n",
       "8   M   15       U     LE3       A   3.0   2.0  services    other        home   \n",
       "9   M   15       U     GT3       T   3.0   4.0     other    other        home   \n",
       "\n",
       "   ... nursery  higher  internet  romantic famrel freetime goout health  \\\n",
       "0  ...     yes     yes       NaN        no    4.0      3.0   4.0    3.0   \n",
       "1  ...      no     yes       yes        no    5.0      3.0   3.0    3.0   \n",
       "2  ...     yes     yes       yes       NaN    4.0      3.0   2.0    3.0   \n",
       "3  ...     yes     yes       yes       yes    3.0      2.0   2.0    5.0   \n",
       "4  ...     yes     yes        no        no    4.0      3.0   2.0    5.0   \n",
       "5  ...     yes     yes       yes        no    5.0      4.0   2.0    5.0   \n",
       "6  ...     yes     yes       yes        no    4.0      4.0   4.0    3.0   \n",
       "7  ...     yes     yes        no        no    4.0      1.0   4.0    1.0   \n",
       "8  ...     yes     yes       yes        no    NaN      2.0   2.0    1.0   \n",
       "9  ...     yes     yes       yes        no    5.0      5.0   1.0    5.0   \n",
       "\n",
       "  absences score  \n",
       "0      6.0  30.0  \n",
       "1      4.0  30.0  \n",
       "2     10.0  50.0  \n",
       "3      2.0  75.0  \n",
       "4      4.0  50.0  \n",
       "5     10.0  75.0  \n",
       "6      0.0  55.0  \n",
       "7      6.0  30.0  \n",
       "8      0.0  95.0  \n",
       "9      0.0  75.0  \n",
       "\n",
       "[10 rows x 28 columns]"
      ]
     },
     "execution_count": 551,
     "metadata": {},
     "output_type": "execute_result"
    }
   ],
   "source": [
    "unicef.head(10)"
   ]
  },
  {
   "cell_type": "code",
   "execution_count": 552,
   "id": "c231bcf8",
   "metadata": {},
   "outputs": [
    {
     "data": {
      "text/html": [
       "<div>\n",
       "<style scoped>\n",
       "    .dataframe tbody tr th:only-of-type {\n",
       "        vertical-align: middle;\n",
       "    }\n",
       "\n",
       "    .dataframe tbody tr th {\n",
       "        vertical-align: top;\n",
       "    }\n",
       "\n",
       "    .dataframe thead th {\n",
       "        text-align: right;\n",
       "    }\n",
       "</style>\n",
       "<table border=\"1\" class=\"dataframe\">\n",
       "  <thead>\n",
       "    <tr style=\"text-align: right;\">\n",
       "      <th></th>\n",
       "      <th>age</th>\n",
       "      <th>Medu</th>\n",
       "      <th>Fedu</th>\n",
       "      <th>traveltime</th>\n",
       "      <th>studytime</th>\n",
       "      <th>failures</th>\n",
       "      <th>famrel</th>\n",
       "      <th>freetime</th>\n",
       "      <th>goout</th>\n",
       "      <th>health</th>\n",
       "      <th>absences</th>\n",
       "      <th>score</th>\n",
       "    </tr>\n",
       "  </thead>\n",
       "  <tbody>\n",
       "    <tr>\n",
       "      <th>age</th>\n",
       "      <td>1.000000</td>\n",
       "      <td>-0.161704</td>\n",
       "      <td>-0.138018</td>\n",
       "      <td>0.081508</td>\n",
       "      <td>-0.015556</td>\n",
       "      <td>0.228047</td>\n",
       "      <td>0.068899</td>\n",
       "      <td>0.029023</td>\n",
       "      <td>0.135107</td>\n",
       "      <td>-0.065946</td>\n",
       "      <td>0.093592</td>\n",
       "      <td>-0.155726</td>\n",
       "    </tr>\n",
       "    <tr>\n",
       "      <th>Medu</th>\n",
       "      <td>-0.161704</td>\n",
       "      <td>1.000000</td>\n",
       "      <td>0.275598</td>\n",
       "      <td>-0.173515</td>\n",
       "      <td>0.078589</td>\n",
       "      <td>-0.245463</td>\n",
       "      <td>-0.010050</td>\n",
       "      <td>0.025335</td>\n",
       "      <td>0.064164</td>\n",
       "      <td>-0.045051</td>\n",
       "      <td>-0.011944</td>\n",
       "      <td>0.213349</td>\n",
       "    </tr>\n",
       "    <tr>\n",
       "      <th>Fedu</th>\n",
       "      <td>-0.138018</td>\n",
       "      <td>0.275598</td>\n",
       "      <td>1.000000</td>\n",
       "      <td>0.030646</td>\n",
       "      <td>0.057199</td>\n",
       "      <td>-0.150821</td>\n",
       "      <td>0.040577</td>\n",
       "      <td>-0.066556</td>\n",
       "      <td>-0.023282</td>\n",
       "      <td>0.027251</td>\n",
       "      <td>0.004695</td>\n",
       "      <td>0.078573</td>\n",
       "    </tr>\n",
       "    <tr>\n",
       "      <th>traveltime</th>\n",
       "      <td>0.081508</td>\n",
       "      <td>-0.173515</td>\n",
       "      <td>0.030646</td>\n",
       "      <td>1.000000</td>\n",
       "      <td>-0.102206</td>\n",
       "      <td>0.064699</td>\n",
       "      <td>-0.016857</td>\n",
       "      <td>-0.021937</td>\n",
       "      <td>0.037636</td>\n",
       "      <td>-0.021531</td>\n",
       "      <td>-0.048215</td>\n",
       "      <td>-0.070559</td>\n",
       "    </tr>\n",
       "    <tr>\n",
       "      <th>studytime</th>\n",
       "      <td>-0.015556</td>\n",
       "      <td>0.078589</td>\n",
       "      <td>0.057199</td>\n",
       "      <td>-0.102206</td>\n",
       "      <td>1.000000</td>\n",
       "      <td>-0.178992</td>\n",
       "      <td>0.045894</td>\n",
       "      <td>-0.121969</td>\n",
       "      <td>-0.051280</td>\n",
       "      <td>-0.080016</td>\n",
       "      <td>-0.026544</td>\n",
       "      <td>0.115741</td>\n",
       "    </tr>\n",
       "    <tr>\n",
       "      <th>failures</th>\n",
       "      <td>0.228047</td>\n",
       "      <td>-0.245463</td>\n",
       "      <td>-0.150821</td>\n",
       "      <td>0.064699</td>\n",
       "      <td>-0.178992</td>\n",
       "      <td>1.000000</td>\n",
       "      <td>-0.022655</td>\n",
       "      <td>0.098382</td>\n",
       "      <td>0.120914</td>\n",
       "      <td>0.081284</td>\n",
       "      <td>0.057391</td>\n",
       "      <td>-0.344338</td>\n",
       "    </tr>\n",
       "    <tr>\n",
       "      <th>famrel</th>\n",
       "      <td>0.068899</td>\n",
       "      <td>-0.010050</td>\n",
       "      <td>0.040577</td>\n",
       "      <td>-0.016857</td>\n",
       "      <td>0.045894</td>\n",
       "      <td>-0.022655</td>\n",
       "      <td>1.000000</td>\n",
       "      <td>0.175743</td>\n",
       "      <td>0.081154</td>\n",
       "      <td>0.077474</td>\n",
       "      <td>-0.082609</td>\n",
       "      <td>0.057112</td>\n",
       "    </tr>\n",
       "    <tr>\n",
       "      <th>freetime</th>\n",
       "      <td>0.029023</td>\n",
       "      <td>0.025335</td>\n",
       "      <td>-0.066556</td>\n",
       "      <td>-0.021937</td>\n",
       "      <td>-0.121969</td>\n",
       "      <td>0.098382</td>\n",
       "      <td>0.175743</td>\n",
       "      <td>1.000000</td>\n",
       "      <td>0.296437</td>\n",
       "      <td>0.061575</td>\n",
       "      <td>0.009292</td>\n",
       "      <td>0.019026</td>\n",
       "    </tr>\n",
       "    <tr>\n",
       "      <th>goout</th>\n",
       "      <td>0.135107</td>\n",
       "      <td>0.064164</td>\n",
       "      <td>-0.023282</td>\n",
       "      <td>0.037636</td>\n",
       "      <td>-0.051280</td>\n",
       "      <td>0.120914</td>\n",
       "      <td>0.081154</td>\n",
       "      <td>0.296437</td>\n",
       "      <td>1.000000</td>\n",
       "      <td>-0.015608</td>\n",
       "      <td>-0.048738</td>\n",
       "      <td>-0.129685</td>\n",
       "    </tr>\n",
       "    <tr>\n",
       "      <th>health</th>\n",
       "      <td>-0.065946</td>\n",
       "      <td>-0.045051</td>\n",
       "      <td>0.027251</td>\n",
       "      <td>-0.021531</td>\n",
       "      <td>-0.080016</td>\n",
       "      <td>0.081284</td>\n",
       "      <td>0.077474</td>\n",
       "      <td>0.061575</td>\n",
       "      <td>-0.015608</td>\n",
       "      <td>1.000000</td>\n",
       "      <td>-0.016222</td>\n",
       "      <td>-0.070460</td>\n",
       "    </tr>\n",
       "    <tr>\n",
       "      <th>absences</th>\n",
       "      <td>0.093592</td>\n",
       "      <td>-0.011944</td>\n",
       "      <td>0.004695</td>\n",
       "      <td>-0.048215</td>\n",
       "      <td>-0.026544</td>\n",
       "      <td>0.057391</td>\n",
       "      <td>-0.082609</td>\n",
       "      <td>0.009292</td>\n",
       "      <td>-0.048738</td>\n",
       "      <td>-0.016222</td>\n",
       "      <td>1.000000</td>\n",
       "      <td>0.065283</td>\n",
       "    </tr>\n",
       "    <tr>\n",
       "      <th>score</th>\n",
       "      <td>-0.155726</td>\n",
       "      <td>0.213349</td>\n",
       "      <td>0.078573</td>\n",
       "      <td>-0.070559</td>\n",
       "      <td>0.115741</td>\n",
       "      <td>-0.344338</td>\n",
       "      <td>0.057112</td>\n",
       "      <td>0.019026</td>\n",
       "      <td>-0.129685</td>\n",
       "      <td>-0.070460</td>\n",
       "      <td>0.065283</td>\n",
       "      <td>1.000000</td>\n",
       "    </tr>\n",
       "  </tbody>\n",
       "</table>\n",
       "</div>"
      ],
      "text/plain": [
       "                 age      Medu      Fedu  traveltime  studytime  failures  \\\n",
       "age         1.000000 -0.161704 -0.138018    0.081508  -0.015556  0.228047   \n",
       "Medu       -0.161704  1.000000  0.275598   -0.173515   0.078589 -0.245463   \n",
       "Fedu       -0.138018  0.275598  1.000000    0.030646   0.057199 -0.150821   \n",
       "traveltime  0.081508 -0.173515  0.030646    1.000000  -0.102206  0.064699   \n",
       "studytime  -0.015556  0.078589  0.057199   -0.102206   1.000000 -0.178992   \n",
       "failures    0.228047 -0.245463 -0.150821    0.064699  -0.178992  1.000000   \n",
       "famrel      0.068899 -0.010050  0.040577   -0.016857   0.045894 -0.022655   \n",
       "freetime    0.029023  0.025335 -0.066556   -0.021937  -0.121969  0.098382   \n",
       "goout       0.135107  0.064164 -0.023282    0.037636  -0.051280  0.120914   \n",
       "health     -0.065946 -0.045051  0.027251   -0.021531  -0.080016  0.081284   \n",
       "absences    0.093592 -0.011944  0.004695   -0.048215  -0.026544  0.057391   \n",
       "score      -0.155726  0.213349  0.078573   -0.070559   0.115741 -0.344338   \n",
       "\n",
       "              famrel  freetime     goout    health  absences     score  \n",
       "age         0.068899  0.029023  0.135107 -0.065946  0.093592 -0.155726  \n",
       "Medu       -0.010050  0.025335  0.064164 -0.045051 -0.011944  0.213349  \n",
       "Fedu        0.040577 -0.066556 -0.023282  0.027251  0.004695  0.078573  \n",
       "traveltime -0.016857 -0.021937  0.037636 -0.021531 -0.048215 -0.070559  \n",
       "studytime   0.045894 -0.121969 -0.051280 -0.080016 -0.026544  0.115741  \n",
       "failures   -0.022655  0.098382  0.120914  0.081284  0.057391 -0.344338  \n",
       "famrel      1.000000  0.175743  0.081154  0.077474 -0.082609  0.057112  \n",
       "freetime    0.175743  1.000000  0.296437  0.061575  0.009292  0.019026  \n",
       "goout       0.081154  0.296437  1.000000 -0.015608 -0.048738 -0.129685  \n",
       "health      0.077474  0.061575 -0.015608  1.000000 -0.016222 -0.070460  \n",
       "absences   -0.082609  0.009292 -0.048738 -0.016222  1.000000  0.065283  \n",
       "score       0.057112  0.019026 -0.129685 -0.070460  0.065283  1.000000  "
      ]
     },
     "execution_count": 552,
     "metadata": {},
     "output_type": "execute_result"
    }
   ],
   "source": [
    "# для заоплнения дальенейших Nan пропусков посмотри корреляцию\n",
    "unicef.corr()"
   ]
  },
  {
   "cell_type": "code",
   "execution_count": 553,
   "id": "0ce269b5",
   "metadata": {},
   "outputs": [
    {
     "data": {
      "text/plain": [
       "score  Medu\n",
       "0.0    2.0     12\n",
       "       1.0      9\n",
       "       3.0      9\n",
       "       4.0      6\n",
       "20.0   4.0      1\n",
       "               ..\n",
       "90.0   2.0      1\n",
       "95.0   4.0      3\n",
       "       2.0      1\n",
       "       3.0      1\n",
       "100.0  4.0      1\n",
       "Name: Medu, Length: 64, dtype: int64"
      ]
     },
     "execution_count": 553,
     "metadata": {},
     "output_type": "execute_result"
    }
   ],
   "source": [
    "# больше всего score коррелирутся с Medu \n",
    "unicef.groupby(by = ['score'])['Medu'].value_counts()"
   ]
  },
  {
   "cell_type": "code",
   "execution_count": 554,
   "id": "57e5aad1",
   "metadata": {},
   "outputs": [
    {
     "data": {
      "text/plain": [
       "65.0"
      ]
     },
     "execution_count": 554,
     "metadata": {},
     "output_type": "execute_result"
    }
   ],
   "source": [
    "unicef[unicef.Medu == 0.0].score.mean() "
   ]
  },
  {
   "cell_type": "code",
   "execution_count": 555,
   "id": "7aa7d139",
   "metadata": {},
   "outputs": [
    {
     "data": {
      "text/plain": [
       "43.125"
      ]
     },
     "execution_count": 555,
     "metadata": {},
     "output_type": "execute_result"
    }
   ],
   "source": [
    "unicef[unicef.Medu == 1.0].score.mean() "
   ]
  },
  {
   "cell_type": "code",
   "execution_count": 556,
   "id": "1fae1d4b",
   "metadata": {},
   "outputs": [
    {
     "data": {
      "text/plain": [
       "49.6"
      ]
     },
     "execution_count": 556,
     "metadata": {},
     "output_type": "execute_result"
    }
   ],
   "source": [
    "unicef[unicef.Medu == 2.0].score.mean() "
   ]
  },
  {
   "cell_type": "code",
   "execution_count": 557,
   "id": "9a8352ab",
   "metadata": {},
   "outputs": [
    {
     "data": {
      "text/plain": [
       "51.822916666666664"
      ]
     },
     "execution_count": 557,
     "metadata": {},
     "output_type": "execute_result"
    }
   ],
   "source": [
    "unicef[unicef.Medu == 3.0].score.mean()"
   ]
  },
  {
   "cell_type": "code",
   "execution_count": 558,
   "id": "52752927",
   "metadata": {},
   "outputs": [
    {
     "data": {
      "text/plain": [
       "58.81679389312977"
      ]
     },
     "execution_count": 558,
     "metadata": {},
     "output_type": "execute_result"
    }
   ],
   "source": [
    "unicef[unicef.Medu == 4.0].score.mean() "
   ]
  },
  {
   "cell_type": "code",
   "execution_count": 559,
   "id": "9e0dd7e7",
   "metadata": {},
   "outputs": [
    {
     "data": {
      "text/plain": [
       "nan"
      ]
     },
     "execution_count": 559,
     "metadata": {},
     "output_type": "execute_result"
    }
   ],
   "source": [
    "unicef[unicef.Medu == 5.0].score.mean()"
   ]
  },
  {
   "cell_type": "code",
   "execution_count": 560,
   "id": "8dbfde40",
   "metadata": {},
   "outputs": [],
   "source": [
    "# заполним Medu и потом в зависимости от \n",
    "# оброзваония матери заполним score"
   ]
  },
  {
   "cell_type": "code",
   "execution_count": 561,
   "id": "6f5da300",
   "metadata": {},
   "outputs": [
    {
     "data": {
      "text/plain": [
       "4.0    131\n",
       "2.0    102\n",
       "3.0     97\n",
       "1.0     59\n",
       "0.0      3\n",
       "Name: Medu, dtype: int64"
      ]
     },
     "execution_count": 561,
     "metadata": {},
     "output_type": "execute_result"
    }
   ],
   "source": [
    "unicef.Medu.value_counts()"
   ]
  },
  {
   "cell_type": "code",
   "execution_count": 562,
   "id": "426a2e88",
   "metadata": {},
   "outputs": [],
   "source": [
    "unicef['Medu'].fillna('4.0')\n",
    "unicef['Medu'].fillna(unicef['Medu'].value_counts().index[0], inplace = True)"
   ]
  },
  {
   "cell_type": "code",
   "execution_count": 563,
   "id": "d51ef6d9",
   "metadata": {},
   "outputs": [],
   "source": [
    "unicef.score = unicef[['score', 'Medu']].apply(lambda x: 65.0 if x[1]== 0.0 and pd.isnull(x[0]) else 43.0 if x[1]== 1.0 and pd.isnull(x[0]) else x[0], axis=1)"
   ]
  },
  {
   "cell_type": "code",
   "execution_count": 564,
   "id": "0aa48461",
   "metadata": {},
   "outputs": [],
   "source": [
    "unicef.score = unicef[['score', 'Medu']].apply(lambda x: 49.0 if x[1]== 2.0 and pd.isnull(x[0]) else 52.0 if x[1]== 3.0 and pd.isnull(x[0]) else 59.0 if x[1]== 4.0 and pd.isnull(x[0]) else x[0], axis=1)"
   ]
  },
  {
   "cell_type": "code",
   "execution_count": 565,
   "id": "9fd3a62a",
   "metadata": {
    "scrolled": false
   },
   "outputs": [
    {
     "data": {
      "text/plain": [
       "2.0     106\n",
       "3.0      96\n",
       "4.0      88\n",
       "1.0      78\n",
       "0.0       2\n",
       "40.0      1\n",
       "Name: Fedu, dtype: int64"
      ]
     },
     "execution_count": 565,
     "metadata": {},
     "output_type": "execute_result"
    }
   ],
   "source": [
    "unicef.Fedu.value_counts()"
   ]
  },
  {
   "cell_type": "code",
   "execution_count": 566,
   "id": "c1f32249",
   "metadata": {},
   "outputs": [
    {
     "data": {
      "text/plain": [
       "Fedu  score\n",
       "0.0   50.0      1\n",
       "      80.0      1\n",
       "1.0   50.0     15\n",
       "      0.0      10\n",
       "      40.0      6\n",
       "               ..\n",
       "4.0   90.0      3\n",
       "      25.0      2\n",
       "      35.0      2\n",
       "      95.0      1\n",
       "40.0  60.0      1\n",
       "Name: score, Length: 69, dtype: int64"
      ]
     },
     "execution_count": 566,
     "metadata": {},
     "output_type": "execute_result"
    }
   ],
   "source": [
    "unicef.groupby(by = ['Fedu'])['score'].value_counts()"
   ]
  },
  {
   "cell_type": "code",
   "execution_count": 567,
   "id": "da537337",
   "metadata": {},
   "outputs": [],
   "source": [
    "unicef.Fedu = unicef[['Fedu', 'score']].apply(lambda x: 1.0 if x[1]== 50.0 and pd.isnull(x[0]) else x[0], axis=1)"
   ]
  },
  {
   "cell_type": "code",
   "execution_count": 568,
   "id": "075db87c",
   "metadata": {},
   "outputs": [
    {
     "name": "stdout",
     "output_type": "stream",
     "text": [
      "<class 'pandas.core.frame.DataFrame'>\n",
      "RangeIndex: 395 entries, 0 to 394\n",
      "Data columns (total 28 columns):\n",
      " #   Column      Non-Null Count  Dtype  \n",
      "---  ------      --------------  -----  \n",
      " 0   sex         395 non-null    object \n",
      " 1   age         395 non-null    int64  \n",
      " 2   address     395 non-null    object \n",
      " 3   famsize     395 non-null    object \n",
      " 4   Pstatus     395 non-null    object \n",
      " 5   Medu        395 non-null    float64\n",
      " 6   Fedu        372 non-null    float64\n",
      " 7   Mjob        376 non-null    object \n",
      " 8   Fjob        359 non-null    object \n",
      " 9   reason      378 non-null    object \n",
      " 10  guardian    364 non-null    object \n",
      " 11  traveltime  367 non-null    float64\n",
      " 12  studytime   388 non-null    float64\n",
      " 13  failures    373 non-null    float64\n",
      " 14  schoolsup   386 non-null    object \n",
      " 15  famsup      356 non-null    object \n",
      " 16  paid        355 non-null    object \n",
      " 17  activities  381 non-null    object \n",
      " 18  nursery     379 non-null    object \n",
      " 19  higher      375 non-null    object \n",
      " 20  internet    361 non-null    object \n",
      " 21  romantic    364 non-null    object \n",
      " 22  famrel      368 non-null    float64\n",
      " 23  freetime    384 non-null    float64\n",
      " 24  goout       387 non-null    float64\n",
      " 25  health      380 non-null    float64\n",
      " 26  absences    383 non-null    float64\n",
      " 27  score       395 non-null    float64\n",
      "dtypes: float64(11), int64(1), object(16)\n",
      "memory usage: 86.5+ KB\n"
     ]
    }
   ],
   "source": [
    "unicef.info()"
   ]
  },
  {
   "cell_type": "code",
   "execution_count": 569,
   "id": "14904aff",
   "metadata": {},
   "outputs": [
    {
     "data": {
      "text/plain": [
       "studytime  score\n",
       "1.0        50.0     17\n",
       "           0.0      13\n",
       "           40.0     11\n",
       "           60.0     10\n",
       "           65.0      9\n",
       "                    ..\n",
       "4.0        90.0      2\n",
       "           30.0      1\n",
       "           80.0      1\n",
       "           85.0      1\n",
       "           100.0     1\n",
       "Name: score, Length: 63, dtype: int64"
      ]
     },
     "execution_count": 569,
     "metadata": {},
     "output_type": "execute_result"
    }
   ],
   "source": [
    "# еще одна явная корреляция score коррелирутся с studytime\n",
    "unicef.groupby(by = ['studytime'])['score'].value_counts()"
   ]
  },
  {
   "cell_type": "code",
   "execution_count": 570,
   "id": "54fa1fde",
   "metadata": {},
   "outputs": [
    {
     "data": {
      "text/plain": [
       "2.0     106\n",
       "3.0      96\n",
       "4.0      88\n",
       "1.0      79\n",
       "0.0       2\n",
       "40.0      1\n",
       "Name: Fedu, dtype: int64"
      ]
     },
     "execution_count": 570,
     "metadata": {},
     "output_type": "execute_result"
    }
   ],
   "source": [
    "unicef.Fedu.value_counts() # видна ошибка выброс 40 не естественный"
   ]
  },
  {
   "cell_type": "code",
   "execution_count": 571,
   "id": "77c09148",
   "metadata": {},
   "outputs": [
    {
     "data": {
      "text/plain": [
       "Int64Index([11], dtype='int64')"
      ]
     },
     "execution_count": 571,
     "metadata": {},
     "output_type": "execute_result"
    }
   ],
   "source": [
    "unicef[unicef.Fedu == 40.0].index"
   ]
  },
  {
   "cell_type": "code",
   "execution_count": 572,
   "id": "4871b535",
   "metadata": {},
   "outputs": [
    {
     "name": "stderr",
     "output_type": "stream",
     "text": [
      "/Users/vladimirkonovalov/opt/anaconda3/lib/python3.8/site-packages/pandas/core/indexing.py:1637: SettingWithCopyWarning: \n",
      "A value is trying to be set on a copy of a slice from a DataFrame\n",
      "\n",
      "See the caveats in the documentation: https://pandas.pydata.org/pandas-docs/stable/user_guide/indexing.html#returning-a-view-versus-a-copy\n",
      "  self._setitem_single_block(indexer, value, name)\n"
     ]
    }
   ],
   "source": [
    "unicef.Fedu.loc[11] = 4.0 # заменили ошибку с 40.0 на 4.0"
   ]
  },
  {
   "cell_type": "code",
   "execution_count": 573,
   "id": "d127d017",
   "metadata": {},
   "outputs": [
    {
     "data": {
      "text/plain": [
       "2.0    106\n",
       "3.0     96\n",
       "4.0     89\n",
       "1.0     79\n",
       "0.0      2\n",
       "Name: Fedu, dtype: int64"
      ]
     },
     "execution_count": 573,
     "metadata": {},
     "output_type": "execute_result"
    }
   ],
   "source": [
    "unicef.Fedu.value_counts()"
   ]
  },
  {
   "cell_type": "code",
   "execution_count": 574,
   "id": "9f13143e",
   "metadata": {},
   "outputs": [
    {
     "data": {
      "text/plain": [
       "score  Fedu\n",
       "0.0    2.0     11\n",
       "       1.0     10\n",
       "       4.0      8\n",
       "       3.0      5\n",
       "20.0   3.0      1\n",
       "               ..\n",
       "90.0   1.0      2\n",
       "       2.0      2\n",
       "95.0   2.0      2\n",
       "       4.0      1\n",
       "100.0  3.0      1\n",
       "Name: Fedu, Length: 68, dtype: int64"
      ]
     },
     "execution_count": 574,
     "metadata": {},
     "output_type": "execute_result"
    }
   ],
   "source": [
    "unicef.groupby(by = ['score'])['Fedu'].value_counts()"
   ]
  },
  {
   "cell_type": "code",
   "execution_count": 575,
   "id": "89b34825",
   "metadata": {},
   "outputs": [],
   "source": [
    "# продолжаем дозополнять Fedu\n",
    "unicef.Fedu = unicef[['Fedu', 'score']].apply(lambda x: 1.0 if x[1]== 0.0 and pd.isnull(x[0]) else x[0], axis=1)"
   ]
  },
  {
   "cell_type": "code",
   "execution_count": 576,
   "id": "9d29f532",
   "metadata": {},
   "outputs": [
    {
     "data": {
      "text/plain": [
       "2.501333333333333"
      ]
     },
     "execution_count": 576,
     "metadata": {},
     "output_type": "execute_result"
    }
   ],
   "source": [
    "unicef.Fedu.mean()"
   ]
  },
  {
   "cell_type": "code",
   "execution_count": 577,
   "id": "4f75eb95",
   "metadata": {},
   "outputs": [],
   "source": [
    "# дозаполним средним Fedu\n",
    "unicef['Fedu'].fillna(2.5)\n",
    "unicef['Fedu'].fillna(unicef['Fedu'].value_counts().index[0], inplace = True)"
   ]
  },
  {
   "cell_type": "code",
   "execution_count": 578,
   "id": "cd9b1b87",
   "metadata": {},
   "outputs": [
    {
     "name": "stdout",
     "output_type": "stream",
     "text": [
      "<class 'pandas.core.frame.DataFrame'>\n",
      "RangeIndex: 395 entries, 0 to 394\n",
      "Data columns (total 28 columns):\n",
      " #   Column      Non-Null Count  Dtype  \n",
      "---  ------      --------------  -----  \n",
      " 0   sex         395 non-null    object \n",
      " 1   age         395 non-null    int64  \n",
      " 2   address     395 non-null    object \n",
      " 3   famsize     395 non-null    object \n",
      " 4   Pstatus     395 non-null    object \n",
      " 5   Medu        395 non-null    float64\n",
      " 6   Fedu        395 non-null    float64\n",
      " 7   Mjob        376 non-null    object \n",
      " 8   Fjob        359 non-null    object \n",
      " 9   reason      378 non-null    object \n",
      " 10  guardian    364 non-null    object \n",
      " 11  traveltime  367 non-null    float64\n",
      " 12  studytime   388 non-null    float64\n",
      " 13  failures    373 non-null    float64\n",
      " 14  schoolsup   386 non-null    object \n",
      " 15  famsup      356 non-null    object \n",
      " 16  paid        355 non-null    object \n",
      " 17  activities  381 non-null    object \n",
      " 18  nursery     379 non-null    object \n",
      " 19  higher      375 non-null    object \n",
      " 20  internet    361 non-null    object \n",
      " 21  romantic    364 non-null    object \n",
      " 22  famrel      368 non-null    float64\n",
      " 23  freetime    384 non-null    float64\n",
      " 24  goout       387 non-null    float64\n",
      " 25  health      380 non-null    float64\n",
      " 26  absences    383 non-null    float64\n",
      " 27  score       395 non-null    float64\n",
      "dtypes: float64(11), int64(1), object(16)\n",
      "memory usage: 86.5+ KB\n"
     ]
    }
   ],
   "source": [
    "unicef.info()"
   ]
  },
  {
   "cell_type": "code",
   "execution_count": 579,
   "id": "7f4d7db7",
   "metadata": {},
   "outputs": [
    {
     "data": {
      "text/plain": [
       "other       133\n",
       "services     98\n",
       "at_home      58\n",
       "teacher      55\n",
       "health       32\n",
       "Name: Mjob, dtype: int64"
      ]
     },
     "execution_count": 579,
     "metadata": {},
     "output_type": "execute_result"
    }
   ],
   "source": [
    "unicef.Mjob.value_counts()"
   ]
  },
  {
   "cell_type": "code",
   "execution_count": 580,
   "id": "426e442f",
   "metadata": {},
   "outputs": [],
   "source": [
    "# дозаполним средним Mjob\n",
    "unicef['Mjob'].fillna('other')\n",
    "unicef['Mjob'].fillna(unicef['Mjob'].value_counts().index[0], inplace = True)"
   ]
  },
  {
   "cell_type": "code",
   "execution_count": 581,
   "id": "aa4d6da2",
   "metadata": {},
   "outputs": [
    {
     "data": {
      "text/plain": [
       "other       197\n",
       "services    102\n",
       "teacher      29\n",
       "at_home      16\n",
       "health       15\n",
       "Name: Fjob, dtype: int64"
      ]
     },
     "execution_count": 581,
     "metadata": {},
     "output_type": "execute_result"
    }
   ],
   "source": [
    "unicef.Fjob.value_counts()"
   ]
  },
  {
   "cell_type": "code",
   "execution_count": 582,
   "id": "2985b2ed",
   "metadata": {},
   "outputs": [],
   "source": [
    "# дозаполним средним Fjob\n",
    "unicef['Fjob'].fillna('other')\n",
    "unicef['Fjob'].fillna(unicef['Fjob'].value_counts().index[0], inplace = True)"
   ]
  },
  {
   "cell_type": "code",
   "execution_count": 583,
   "id": "2ff78a3a",
   "metadata": {},
   "outputs": [
    {
     "data": {
      "text/plain": [
       "course        137\n",
       "home          104\n",
       "reputation    103\n",
       "other          34\n",
       "Name: reason, dtype: int64"
      ]
     },
     "execution_count": 583,
     "metadata": {},
     "output_type": "execute_result"
    }
   ],
   "source": [
    "unicef.reason.value_counts()"
   ]
  },
  {
   "cell_type": "code",
   "execution_count": 584,
   "id": "2c6b8306",
   "metadata": {},
   "outputs": [],
   "source": [
    "# дозаполним средним reason\n",
    "unicef['reason'].fillna('course')\n",
    "unicef['reason'].fillna(unicef['reason'].value_counts().index[0], inplace = True)"
   ]
  },
  {
   "cell_type": "code",
   "execution_count": 585,
   "id": "455bf44c",
   "metadata": {},
   "outputs": [
    {
     "data": {
      "text/plain": [
       "mother    250\n",
       "father     86\n",
       "other      28\n",
       "Name: guardian, dtype: int64"
      ]
     },
     "execution_count": 585,
     "metadata": {},
     "output_type": "execute_result"
    }
   ],
   "source": [
    "unicef.guardian.value_counts()"
   ]
  },
  {
   "cell_type": "code",
   "execution_count": 586,
   "id": "3b923f06",
   "metadata": {},
   "outputs": [],
   "source": [
    "# дозаполним средним guardian\n",
    "unicef['guardian'].fillna('mother')\n",
    "unicef['guardian'].fillna(unicef['guardian'].value_counts().index[0], inplace = True)"
   ]
  },
  {
   "cell_type": "code",
   "execution_count": 587,
   "id": "cc0ffd64",
   "metadata": {},
   "outputs": [
    {
     "data": {
      "text/plain": [
       "1.0    242\n",
       "2.0     96\n",
       "3.0     22\n",
       "4.0      7\n",
       "Name: traveltime, dtype: int64"
      ]
     },
     "execution_count": 587,
     "metadata": {},
     "output_type": "execute_result"
    }
   ],
   "source": [
    "unicef.traveltime.value_counts()"
   ]
  },
  {
   "cell_type": "code",
   "execution_count": 588,
   "id": "aaee3691",
   "metadata": {},
   "outputs": [],
   "source": [
    "# дозаполним средним traveltime\n",
    "unicef['traveltime'].fillna(1.0)\n",
    "unicef['traveltime'].fillna(unicef['traveltime'].value_counts().index[0], inplace = True)"
   ]
  },
  {
   "cell_type": "code",
   "execution_count": 589,
   "id": "3508d330",
   "metadata": {},
   "outputs": [
    {
     "name": "stdout",
     "output_type": "stream",
     "text": [
      "<class 'pandas.core.frame.DataFrame'>\n",
      "RangeIndex: 395 entries, 0 to 394\n",
      "Data columns (total 28 columns):\n",
      " #   Column      Non-Null Count  Dtype  \n",
      "---  ------      --------------  -----  \n",
      " 0   sex         395 non-null    object \n",
      " 1   age         395 non-null    int64  \n",
      " 2   address     395 non-null    object \n",
      " 3   famsize     395 non-null    object \n",
      " 4   Pstatus     395 non-null    object \n",
      " 5   Medu        395 non-null    float64\n",
      " 6   Fedu        395 non-null    float64\n",
      " 7   Mjob        395 non-null    object \n",
      " 8   Fjob        395 non-null    object \n",
      " 9   reason      395 non-null    object \n",
      " 10  guardian    395 non-null    object \n",
      " 11  traveltime  395 non-null    float64\n",
      " 12  studytime   388 non-null    float64\n",
      " 13  failures    373 non-null    float64\n",
      " 14  schoolsup   386 non-null    object \n",
      " 15  famsup      356 non-null    object \n",
      " 16  paid        355 non-null    object \n",
      " 17  activities  381 non-null    object \n",
      " 18  nursery     379 non-null    object \n",
      " 19  higher      375 non-null    object \n",
      " 20  internet    361 non-null    object \n",
      " 21  romantic    364 non-null    object \n",
      " 22  famrel      368 non-null    float64\n",
      " 23  freetime    384 non-null    float64\n",
      " 24  goout       387 non-null    float64\n",
      " 25  health      380 non-null    float64\n",
      " 26  absences    383 non-null    float64\n",
      " 27  score       395 non-null    float64\n",
      "dtypes: float64(11), int64(1), object(16)\n",
      "memory usage: 86.5+ KB\n"
     ]
    }
   ],
   "source": [
    "unicef.info()"
   ]
  },
  {
   "cell_type": "code",
   "execution_count": 590,
   "id": "57890c76",
   "metadata": {},
   "outputs": [
    {
     "data": {
      "text/plain": [
       "2.0    194\n",
       "1.0    103\n",
       "3.0     64\n",
       "4.0     27\n",
       "Name: studytime, dtype: int64"
      ]
     },
     "execution_count": 590,
     "metadata": {},
     "output_type": "execute_result"
    }
   ],
   "source": [
    "unicef.studytime.value_counts()"
   ]
  },
  {
   "cell_type": "code",
   "execution_count": 591,
   "id": "98abc4b4",
   "metadata": {},
   "outputs": [],
   "source": [
    "# дозаполним средним studytime\n",
    "unicef['studytime'].fillna(2.0)\n",
    "unicef['studytime'].fillna(unicef['studytime'].value_counts().index[0], inplace = True)"
   ]
  },
  {
   "cell_type": "code",
   "execution_count": 592,
   "id": "865082f9",
   "metadata": {},
   "outputs": [
    {
     "data": {
      "text/plain": [
       "0.0    293\n",
       "1.0     49\n",
       "2.0     16\n",
       "3.0     15\n",
       "Name: failures, dtype: int64"
      ]
     },
     "execution_count": 592,
     "metadata": {},
     "output_type": "execute_result"
    }
   ],
   "source": [
    "unicef.failures.value_counts()"
   ]
  },
  {
   "cell_type": "code",
   "execution_count": 593,
   "id": "c6bfa247",
   "metadata": {},
   "outputs": [],
   "source": [
    "# дозаполним средним failures\n",
    "unicef['failures'].fillna(0.0)\n",
    "unicef['failures'].fillna(unicef['failures'].value_counts().index[0], inplace = True)"
   ]
  },
  {
   "cell_type": "code",
   "execution_count": 594,
   "id": "677014ee",
   "metadata": {},
   "outputs": [
    {
     "data": {
      "text/plain": [
       "no     335\n",
       "yes     51\n",
       "Name: schoolsup, dtype: int64"
      ]
     },
     "execution_count": 594,
     "metadata": {},
     "output_type": "execute_result"
    }
   ],
   "source": [
    "unicef.schoolsup.value_counts()"
   ]
  },
  {
   "cell_type": "code",
   "execution_count": 595,
   "id": "4e77c15a",
   "metadata": {},
   "outputs": [],
   "source": [
    "# дозаполним средним failures\n",
    "unicef['schoolsup'].fillna('no')\n",
    "unicef['schoolsup'].fillna(unicef['schoolsup'].value_counts().index[0], inplace = True)"
   ]
  },
  {
   "cell_type": "code",
   "execution_count": 596,
   "id": "1f5d33b6",
   "metadata": {},
   "outputs": [
    {
     "data": {
      "text/plain": [
       "yes    219\n",
       "no     137\n",
       "Name: famsup, dtype: int64"
      ]
     },
     "execution_count": 596,
     "metadata": {},
     "output_type": "execute_result"
    }
   ],
   "source": [
    "unicef.famsup.value_counts()"
   ]
  },
  {
   "cell_type": "code",
   "execution_count": 597,
   "id": "41ff8202",
   "metadata": {},
   "outputs": [
    {
     "data": {
      "text/plain": [
       "count     356\n",
       "unique      2\n",
       "top       yes\n",
       "freq      219\n",
       "Name: famsup, dtype: object"
      ]
     },
     "execution_count": 597,
     "metadata": {},
     "output_type": "execute_result"
    },
    {
     "data": {
      "image/png": "[encoded data removed]",
      "text/plain": [
       "<Figure size 432x288 with 1 Axes>"
      ]
     },
     "metadata": {
      "needs_background": "light"
     },
     "output_type": "display_data"
    }
   ],
   "source": [
    "unicef.famsup.hist()\n",
    "unicef.famsup.describe()"
   ]
  },
  {
   "cell_type": "code",
   "execution_count": 598,
   "id": "2ac61aae",
   "metadata": {},
   "outputs": [
    {
     "data": {
      "text/plain": [
       "<BarContainer object of 2 artists>"
      ]
     },
     "execution_count": 598,
     "metadata": {},
     "output_type": "execute_result"
    },
    {
     "data": {
      "image/png": "[encoded data removed]",
      "text/plain": [
       "<Figure size 432x288 with 1 Axes>"
      ]
     },
     "metadata": {
      "needs_background": "light"
     },
     "output_type": "display_data"
    }
   ],
   "source": [
    "fig = plt.figure()\n",
    "axes = fig.add_axes([0, 0, 0.5, 1])\n",
    "axes.bar(x = ['Fedu','Medu'], height = unicef['famsup'].value_counts())"
   ]
  },
  {
   "cell_type": "code",
   "execution_count": 599,
   "id": "1fe16b4f",
   "metadata": {},
   "outputs": [
    {
     "data": {
      "text/plain": [
       "Fedu  famsup\n",
       "0.0   no         1\n",
       "      yes        1\n",
       "1.0   no        41\n",
       "      yes       31\n",
       "2.0   yes       67\n",
       "      no        43\n",
       "3.0   yes       58\n",
       "      no        32\n",
       "4.0   yes       62\n",
       "      no        20\n",
       "Name: famsup, dtype: int64"
      ]
     },
     "execution_count": 599,
     "metadata": {},
     "output_type": "execute_result"
    }
   ],
   "source": [
    "unicef.groupby(by = ['Fedu'])['famsup'].value_counts()"
   ]
  },
  {
   "cell_type": "code",
   "execution_count": 600,
   "id": "a604513c",
   "metadata": {},
   "outputs": [],
   "source": [
    "# исходя из того то на famsup более влияет Fedu \n",
    "# исходя из это заоплним пропуски в famsup\n",
    "unicef.famsup = unicef[['famsup', 'Fedu']].apply(lambda x: 'no' if x[1]== 1.0 and pd.isnull(x[0]) else x[0], axis=1)\n",
    "unicef.famsup = unicef[['famsup', 'Fedu']].apply(lambda x: 'yes' if x[1]== 2.0 and pd.isnull(x[0]) else x[0], axis=1)\n",
    "unicef.famsup = unicef[['famsup', 'Fedu']].apply(lambda x: 'yes' if x[1]== 3.0 and pd.isnull(x[0]) else x[0], axis=1)\n",
    "unicef.famsup = unicef[['famsup', 'Fedu']].apply(lambda x: 'yes' if x[1]== 4.0 and pd.isnull(x[0]) else x[0], axis=1)"
   ]
  },
  {
   "cell_type": "code",
   "execution_count": 601,
   "id": "ac57694d",
   "metadata": {},
   "outputs": [
    {
     "name": "stdout",
     "output_type": "stream",
     "text": [
      "<class 'pandas.core.frame.DataFrame'>\n",
      "RangeIndex: 395 entries, 0 to 394\n",
      "Data columns (total 28 columns):\n",
      " #   Column      Non-Null Count  Dtype  \n",
      "---  ------      --------------  -----  \n",
      " 0   sex         395 non-null    object \n",
      " 1   age         395 non-null    int64  \n",
      " 2   address     395 non-null    object \n",
      " 3   famsize     395 non-null    object \n",
      " 4   Pstatus     395 non-null    object \n",
      " 5   Medu        395 non-null    float64\n",
      " 6   Fedu        395 non-null    float64\n",
      " 7   Mjob        395 non-null    object \n",
      " 8   Fjob        395 non-null    object \n",
      " 9   reason      395 non-null    object \n",
      " 10  guardian    395 non-null    object \n",
      " 11  traveltime  395 non-null    float64\n",
      " 12  studytime   395 non-null    float64\n",
      " 13  failures    395 non-null    float64\n",
      " 14  schoolsup   395 non-null    object \n",
      " 15  famsup      395 non-null    object \n",
      " 16  paid        355 non-null    object \n",
      " 17  activities  381 non-null    object \n",
      " 18  nursery     379 non-null    object \n",
      " 19  higher      375 non-null    object \n",
      " 20  internet    361 non-null    object \n",
      " 21  romantic    364 non-null    object \n",
      " 22  famrel      368 non-null    float64\n",
      " 23  freetime    384 non-null    float64\n",
      " 24  goout       387 non-null    float64\n",
      " 25  health      380 non-null    float64\n",
      " 26  absences    383 non-null    float64\n",
      " 27  score       395 non-null    float64\n",
      "dtypes: float64(11), int64(1), object(16)\n",
      "memory usage: 86.5+ KB\n"
     ]
    }
   ],
   "source": [
    "unicef.info()"
   ]
  },
  {
   "cell_type": "code",
   "execution_count": 602,
   "id": "17d53cb6",
   "metadata": {},
   "outputs": [
    {
     "data": {
      "text/plain": [
       "no     200\n",
       "yes    155\n",
       "Name: paid, dtype: int64"
      ]
     },
     "execution_count": 602,
     "metadata": {},
     "output_type": "execute_result"
    }
   ],
   "source": [
    "unicef.paid.value_counts()"
   ]
  },
  {
   "cell_type": "code",
   "execution_count": 603,
   "id": "07ffa218",
   "metadata": {},
   "outputs": [
    {
     "data": {
      "text/plain": [
       "<BarContainer object of 2 artists>"
      ]
     },
     "execution_count": 603,
     "metadata": {},
     "output_type": "execute_result"
    },
    {
     "data": {
      "image/png": "[encoded data removed]",
      "text/plain": [
       "<Figure size 432x288 with 1 Axes>"
      ]
     },
     "metadata": {
      "needs_background": "light"
     },
     "output_type": "display_data"
    }
   ],
   "source": [
    "fig = plt.figure()\n",
    "axes = fig.add_axes([0, 0, 0.5, 1])\n",
    "axes.bar(x = ['famsup',' activities'], height = unicef['paid'].value_counts())"
   ]
  },
  {
   "cell_type": "code",
   "execution_count": 604,
   "id": "5dca7e3d",
   "metadata": {},
   "outputs": [
    {
     "data": {
      "text/plain": [
       "<BarContainer object of 2 artists>"
      ]
     },
     "execution_count": 604,
     "metadata": {},
     "output_type": "execute_result"
    },
    {
     "data": {
      "image/png": "[encoded data removed]",
      "text/plain": [
       "<Figure size 432x288 with 1 Axes>"
      ]
     },
     "metadata": {
      "needs_background": "light"
     },
     "output_type": "display_data"
    }
   ],
   "source": [
    "fig = plt.figure()\n",
    "axes = fig.add_axes([0, 0, 0.5, 1])\n",
    "axes.bar(x = [' failures',' schoolsup'], height = unicef['paid'].value_counts())"
   ]
  },
  {
   "cell_type": "code",
   "execution_count": 605,
   "id": "62929d62",
   "metadata": {},
   "outputs": [
    {
     "data": {
      "text/html": [
       "<div>\n",
       "<style scoped>\n",
       "    .dataframe tbody tr th:only-of-type {\n",
       "        vertical-align: middle;\n",
       "    }\n",
       "\n",
       "    .dataframe tbody tr th {\n",
       "        vertical-align: top;\n",
       "    }\n",
       "\n",
       "    .dataframe thead th {\n",
       "        text-align: right;\n",
       "    }\n",
       "</style>\n",
       "<table border=\"1\" class=\"dataframe\">\n",
       "  <thead>\n",
       "    <tr style=\"text-align: right;\">\n",
       "      <th>studytime</th>\n",
       "      <th>1.0</th>\n",
       "      <th>2.0</th>\n",
       "      <th>3.0</th>\n",
       "      <th>4.0</th>\n",
       "    </tr>\n",
       "    <tr>\n",
       "      <th>failures</th>\n",
       "      <th></th>\n",
       "      <th></th>\n",
       "      <th></th>\n",
       "      <th></th>\n",
       "    </tr>\n",
       "  </thead>\n",
       "  <tbody>\n",
       "    <tr>\n",
       "      <th>0.0</th>\n",
       "      <td>62.0</td>\n",
       "      <td>144.0</td>\n",
       "      <td>51.0</td>\n",
       "      <td>25.0</td>\n",
       "    </tr>\n",
       "    <tr>\n",
       "      <th>1.0</th>\n",
       "      <td>15.0</td>\n",
       "      <td>22.0</td>\n",
       "      <td>7.0</td>\n",
       "      <td>1.0</td>\n",
       "    </tr>\n",
       "    <tr>\n",
       "      <th>2.0</th>\n",
       "      <td>5.0</td>\n",
       "      <td>8.0</td>\n",
       "      <td>3.0</td>\n",
       "      <td>NaN</td>\n",
       "    </tr>\n",
       "    <tr>\n",
       "      <th>3.0</th>\n",
       "      <td>7.0</td>\n",
       "      <td>5.0</td>\n",
       "      <td>NaN</td>\n",
       "      <td>NaN</td>\n",
       "    </tr>\n",
       "  </tbody>\n",
       "</table>\n",
       "</div>"
      ],
      "text/plain": [
       "studytime   1.0    2.0   3.0   4.0\n",
       "failures                          \n",
       "0.0        62.0  144.0  51.0  25.0\n",
       "1.0        15.0   22.0   7.0   1.0\n",
       "2.0         5.0    8.0   3.0   NaN\n",
       "3.0         7.0    5.0   NaN   NaN"
      ]
     },
     "execution_count": 605,
     "metadata": {},
     "output_type": "execute_result"
    }
   ],
   "source": [
    "unicef.pivot_table(index = 'failures', columns = 'studytime', values = 'paid', aggfunc = 'count')"
   ]
  },
  {
   "cell_type": "code",
   "execution_count": 606,
   "id": "f8acf378",
   "metadata": {},
   "outputs": [
    {
     "data": {
      "text/plain": [
       "studytime  paid\n",
       "1.0        no      67\n",
       "           yes     22\n",
       "2.0        no      93\n",
       "           yes     86\n",
       "3.0        yes     32\n",
       "           no      29\n",
       "4.0        yes     15\n",
       "           no      11\n",
       "Name: paid, dtype: int64"
      ]
     },
     "execution_count": 606,
     "metadata": {},
     "output_type": "execute_result"
    }
   ],
   "source": [
    "unicef.groupby(by = ['studytime'])['paid'].value_counts()"
   ]
  },
  {
   "cell_type": "code",
   "execution_count": 607,
   "id": "8c5534e0",
   "metadata": {},
   "outputs": [],
   "source": [
    "# исходя из того то на paid более влияет studytime \n",
    "# исходя из это заоплним пропуски в studytime\n",
    "unicef.paid  = unicef[['paid', 'studytime']].apply(lambda x: 'no' if x[1]== 1.0 and pd.isnull(x[0]) else x[0], axis=1)\n",
    "unicef.paid  = unicef[['paid','studytime']].apply(lambda x: 'no' if x[1]== 2.0 and pd.isnull(x[0]) else x[0], axis=1)\n",
    "unicef.paid  = unicef[['paid','studytime']].apply(lambda x: 'yes' if x[1]== 3.0 and pd.isnull(x[0]) else x[0], axis=1)\n",
    "unicef.paid  = unicef[['paid','studytime']].apply(lambda x: 'yes' if x[1]== 4.0 and pd.isnull(x[0]) else x[0], axis=1)"
   ]
  },
  {
   "cell_type": "code",
   "execution_count": 608,
   "id": "29c8906c",
   "metadata": {},
   "outputs": [
    {
     "data": {
      "text/plain": [
       "studytime  activities\n",
       "1.0        no             55\n",
       "           yes            42\n",
       "2.0        yes           101\n",
       "           no             95\n",
       "3.0        yes            36\n",
       "           no             26\n",
       "4.0        yes            16\n",
       "           no             10\n",
       "Name: activities, dtype: int64"
      ]
     },
     "execution_count": 608,
     "metadata": {},
     "output_type": "execute_result"
    }
   ],
   "source": [
    "unicef.groupby(by = ['studytime'])['activities'].value_counts()"
   ]
  },
  {
   "cell_type": "code",
   "execution_count": 609,
   "id": "f8781408",
   "metadata": {},
   "outputs": [],
   "source": [
    "# исходя из того то на activities более влияет studytime \n",
    "# исходя из это заоплним пропуски в activities\n",
    "unicef.activities  = unicef[['activities', 'studytime']].apply(lambda x: 'no' if x[1]== 1.0 and pd.isnull(x[0]) else x[0], axis=1)\n",
    "unicef.activities  = unicef[['activities','studytime']].apply(lambda x: 'yes' if x[1]== 2.0 and pd.isnull(x[0]) else x[0], axis=1)\n",
    "unicef.activities  = unicef[['activities','studytime']].apply(lambda x: 'yes' if x[1]== 3.0 and pd.isnull(x[0]) else x[0], axis=1)\n",
    "unicef.activities  = unicef[['activities','studytime']].apply(lambda x: 'yes' if x[1]== 4.0 and pd.isnull(x[0]) else x[0], axis=1)"
   ]
  },
  {
   "cell_type": "code",
   "execution_count": 610,
   "id": "03560439",
   "metadata": {},
   "outputs": [
    {
     "data": {
      "text/plain": [
       "yes    300\n",
       "no      79\n",
       "Name: nursery, dtype: int64"
      ]
     },
     "execution_count": 610,
     "metadata": {},
     "output_type": "execute_result"
    }
   ],
   "source": [
    "unicef.nursery.value_counts()"
   ]
  },
  {
   "cell_type": "code",
   "execution_count": 611,
   "id": "b1e9241a",
   "metadata": {},
   "outputs": [],
   "source": [
    "# дозаполним nursery\n",
    "unicef['nursery'].fillna('yes')\n",
    "unicef['nursery'].fillna(unicef['nursery'].value_counts().index[0], inplace = True)"
   ]
  },
  {
   "cell_type": "code",
   "execution_count": 612,
   "id": "952e20b6",
   "metadata": {},
   "outputs": [
    {
     "data": {
      "text/plain": [
       "yes    356\n",
       "no      19\n",
       "Name: higher, dtype: int64"
      ]
     },
     "execution_count": 612,
     "metadata": {},
     "output_type": "execute_result"
    }
   ],
   "source": [
    "unicef.higher.value_counts()"
   ]
  },
  {
   "cell_type": "code",
   "execution_count": 613,
   "id": "df130348",
   "metadata": {},
   "outputs": [],
   "source": [
    "# дозаполним higher\n",
    "unicef['higher'].fillna('yes')\n",
    "unicef['higher'].fillna(unicef['higher'].value_counts().index[0], inplace = True)"
   ]
  },
  {
   "cell_type": "code",
   "execution_count": 614,
   "id": "c31310cd",
   "metadata": {},
   "outputs": [
    {
     "data": {
      "text/plain": [
       "yes    305\n",
       "no      56\n",
       "Name: internet, dtype: int64"
      ]
     },
     "execution_count": 614,
     "metadata": {},
     "output_type": "execute_result"
    }
   ],
   "source": [
    "unicef.internet.value_counts()"
   ]
  },
  {
   "cell_type": "code",
   "execution_count": 615,
   "id": "763a495f",
   "metadata": {},
   "outputs": [],
   "source": [
    "# дозаполним internet\n",
    "unicef['internet'].fillna('yes')\n",
    "unicef['internet'].fillna(unicef['internet'].value_counts().index[0], inplace = True)"
   ]
  },
  {
   "cell_type": "code",
   "execution_count": 616,
   "id": "2e015d41",
   "metadata": {},
   "outputs": [
    {
     "data": {
      "text/plain": [
       "no     240\n",
       "yes    124\n",
       "Name: romantic, dtype: int64"
      ]
     },
     "execution_count": 616,
     "metadata": {},
     "output_type": "execute_result"
    }
   ],
   "source": [
    "unicef.romantic.value_counts()"
   ]
  },
  {
   "cell_type": "code",
   "execution_count": 617,
   "id": "1321d1c9",
   "metadata": {},
   "outputs": [],
   "source": [
    "# дозаполним romantic\n",
    "unicef['romantic'].fillna('no')\n",
    "unicef['romantic'].fillna(unicef['romantic'].value_counts().index[0], inplace = True)"
   ]
  },
  {
   "cell_type": "code",
   "execution_count": 618,
   "id": "f66dfeea",
   "metadata": {},
   "outputs": [
    {
     "data": {
      "text/plain": [
       " 4.0    182\n",
       " 5.0     99\n",
       " 3.0     62\n",
       " 2.0     17\n",
       " 1.0      7\n",
       "-1.0      1\n",
       "Name: famrel, dtype: int64"
      ]
     },
     "execution_count": 618,
     "metadata": {},
     "output_type": "execute_result"
    }
   ],
   "source": [
    "unicef.famrel.value_counts()"
   ]
  },
  {
   "cell_type": "code",
   "execution_count": 619,
   "id": "a4fb0e57",
   "metadata": {},
   "outputs": [
    {
     "data": {
      "text/plain": [
       "Int64Index([25], dtype='int64')"
      ]
     },
     "execution_count": 619,
     "metadata": {},
     "output_type": "execute_result"
    }
   ],
   "source": [
    "# исправляем ошибку -1\n",
    "unicef[unicef.famrel == -1.0].index"
   ]
  },
  {
   "cell_type": "code",
   "execution_count": 620,
   "id": "7b0d64eb",
   "metadata": {},
   "outputs": [
    {
     "name": "stderr",
     "output_type": "stream",
     "text": [
      "/Users/vladimirkonovalov/opt/anaconda3/lib/python3.8/site-packages/pandas/core/indexing.py:1637: SettingWithCopyWarning: \n",
      "A value is trying to be set on a copy of a slice from a DataFrame\n",
      "\n",
      "See the caveats in the documentation: https://pandas.pydata.org/pandas-docs/stable/user_guide/indexing.html#returning-a-view-versus-a-copy\n",
      "  self._setitem_single_block(indexer, value, name)\n"
     ]
    }
   ],
   "source": [
    "unicef.famrel.loc[25] = 1.0 # заменили ошибку с 40.0 на 4.0"
   ]
  },
  {
   "cell_type": "code",
   "execution_count": 621,
   "id": "aa9cc78a",
   "metadata": {},
   "outputs": [
    {
     "data": {
      "text/plain": [
       "4.0    182\n",
       "5.0     99\n",
       "3.0     62\n",
       "2.0     17\n",
       "1.0      8\n",
       "Name: famrel, dtype: int64"
      ]
     },
     "execution_count": 621,
     "metadata": {},
     "output_type": "execute_result"
    }
   ],
   "source": [
    "unicef.famrel.value_counts()"
   ]
  },
  {
   "cell_type": "code",
   "execution_count": 622,
   "id": "e77d0e91",
   "metadata": {},
   "outputs": [
    {
     "data": {
      "text/html": [
       "<div>\n",
       "<style scoped>\n",
       "    .dataframe tbody tr th:only-of-type {\n",
       "        vertical-align: middle;\n",
       "    }\n",
       "\n",
       "    .dataframe tbody tr th {\n",
       "        vertical-align: top;\n",
       "    }\n",
       "\n",
       "    .dataframe thead th {\n",
       "        text-align: right;\n",
       "    }\n",
       "</style>\n",
       "<table border=\"1\" class=\"dataframe\">\n",
       "  <thead>\n",
       "    <tr style=\"text-align: right;\">\n",
       "      <th></th>\n",
       "      <th>age</th>\n",
       "      <th>Medu</th>\n",
       "      <th>Fedu</th>\n",
       "      <th>traveltime</th>\n",
       "      <th>studytime</th>\n",
       "      <th>failures</th>\n",
       "      <th>famrel</th>\n",
       "      <th>freetime</th>\n",
       "      <th>goout</th>\n",
       "      <th>health</th>\n",
       "      <th>absences</th>\n",
       "      <th>score</th>\n",
       "    </tr>\n",
       "  </thead>\n",
       "  <tbody>\n",
       "    <tr>\n",
       "      <th>age</th>\n",
       "      <td>1.000000</td>\n",
       "      <td>-0.160777</td>\n",
       "      <td>-0.157545</td>\n",
       "      <td>0.084755</td>\n",
       "      <td>-0.015355</td>\n",
       "      <td>0.228081</td>\n",
       "      <td>0.067415</td>\n",
       "      <td>0.029023</td>\n",
       "      <td>0.135107</td>\n",
       "      <td>-0.065946</td>\n",
       "      <td>0.093592</td>\n",
       "      <td>-0.158186</td>\n",
       "    </tr>\n",
       "    <tr>\n",
       "      <th>Medu</th>\n",
       "      <td>-0.160777</td>\n",
       "      <td>1.000000</td>\n",
       "      <td>0.586435</td>\n",
       "      <td>-0.164282</td>\n",
       "      <td>0.073607</td>\n",
       "      <td>-0.243821</td>\n",
       "      <td>-0.013749</td>\n",
       "      <td>0.029000</td>\n",
       "      <td>0.063253</td>\n",
       "      <td>-0.047992</td>\n",
       "      <td>-0.013124</td>\n",
       "      <td>0.203961</td>\n",
       "    </tr>\n",
       "    <tr>\n",
       "      <th>Fedu</th>\n",
       "      <td>-0.157545</td>\n",
       "      <td>0.586435</td>\n",
       "      <td>1.000000</td>\n",
       "      <td>-0.113888</td>\n",
       "      <td>0.008118</td>\n",
       "      <td>-0.267302</td>\n",
       "      <td>-0.021947</td>\n",
       "      <td>-0.032625</td>\n",
       "      <td>0.041927</td>\n",
       "      <td>0.013237</td>\n",
       "      <td>0.024411</td>\n",
       "      <td>0.142784</td>\n",
       "    </tr>\n",
       "    <tr>\n",
       "      <th>traveltime</th>\n",
       "      <td>0.084755</td>\n",
       "      <td>-0.164282</td>\n",
       "      <td>-0.113888</td>\n",
       "      <td>1.000000</td>\n",
       "      <td>-0.094637</td>\n",
       "      <td>0.049670</td>\n",
       "      <td>-0.019207</td>\n",
       "      <td>-0.011383</td>\n",
       "      <td>0.050800</td>\n",
       "      <td>-0.046027</td>\n",
       "      <td>-0.040324</td>\n",
       "      <td>-0.058698</td>\n",
       "    </tr>\n",
       "    <tr>\n",
       "      <th>studytime</th>\n",
       "      <td>-0.015355</td>\n",
       "      <td>0.073607</td>\n",
       "      <td>0.008118</td>\n",
       "      <td>-0.094637</td>\n",
       "      <td>1.000000</td>\n",
       "      <td>-0.166598</td>\n",
       "      <td>0.039005</td>\n",
       "      <td>-0.120215</td>\n",
       "      <td>-0.050773</td>\n",
       "      <td>-0.079415</td>\n",
       "      <td>-0.026502</td>\n",
       "      <td>0.113763</td>\n",
       "    </tr>\n",
       "    <tr>\n",
       "      <th>failures</th>\n",
       "      <td>0.228081</td>\n",
       "      <td>-0.243821</td>\n",
       "      <td>-0.267302</td>\n",
       "      <td>0.049670</td>\n",
       "      <td>-0.166598</td>\n",
       "      <td>1.000000</td>\n",
       "      <td>-0.017503</td>\n",
       "      <td>0.094530</td>\n",
       "      <td>0.113897</td>\n",
       "      <td>0.078668</td>\n",
       "      <td>0.057952</td>\n",
       "      <td>-0.332141</td>\n",
       "    </tr>\n",
       "    <tr>\n",
       "      <th>famrel</th>\n",
       "      <td>0.067415</td>\n",
       "      <td>-0.013749</td>\n",
       "      <td>-0.021947</td>\n",
       "      <td>-0.019207</td>\n",
       "      <td>0.039005</td>\n",
       "      <td>-0.017503</td>\n",
       "      <td>1.000000</td>\n",
       "      <td>0.172751</td>\n",
       "      <td>0.077167</td>\n",
       "      <td>0.086309</td>\n",
       "      <td>-0.083064</td>\n",
       "      <td>0.052304</td>\n",
       "    </tr>\n",
       "    <tr>\n",
       "      <th>freetime</th>\n",
       "      <td>0.029023</td>\n",
       "      <td>0.029000</td>\n",
       "      <td>-0.032625</td>\n",
       "      <td>-0.011383</td>\n",
       "      <td>-0.120215</td>\n",
       "      <td>0.094530</td>\n",
       "      <td>0.172751</td>\n",
       "      <td>1.000000</td>\n",
       "      <td>0.296437</td>\n",
       "      <td>0.061575</td>\n",
       "      <td>0.009292</td>\n",
       "      <td>0.015960</td>\n",
       "    </tr>\n",
       "    <tr>\n",
       "      <th>goout</th>\n",
       "      <td>0.135107</td>\n",
       "      <td>0.063253</td>\n",
       "      <td>0.041927</td>\n",
       "      <td>0.050800</td>\n",
       "      <td>-0.050773</td>\n",
       "      <td>0.113897</td>\n",
       "      <td>0.077167</td>\n",
       "      <td>0.296437</td>\n",
       "      <td>1.000000</td>\n",
       "      <td>-0.015608</td>\n",
       "      <td>-0.048738</td>\n",
       "      <td>-0.130873</td>\n",
       "    </tr>\n",
       "    <tr>\n",
       "      <th>health</th>\n",
       "      <td>-0.065946</td>\n",
       "      <td>-0.047992</td>\n",
       "      <td>0.013237</td>\n",
       "      <td>-0.046027</td>\n",
       "      <td>-0.079415</td>\n",
       "      <td>0.078668</td>\n",
       "      <td>0.086309</td>\n",
       "      <td>0.061575</td>\n",
       "      <td>-0.015608</td>\n",
       "      <td>1.000000</td>\n",
       "      <td>-0.016222</td>\n",
       "      <td>-0.069725</td>\n",
       "    </tr>\n",
       "    <tr>\n",
       "      <th>absences</th>\n",
       "      <td>0.093592</td>\n",
       "      <td>-0.013124</td>\n",
       "      <td>0.024411</td>\n",
       "      <td>-0.040324</td>\n",
       "      <td>-0.026502</td>\n",
       "      <td>0.057952</td>\n",
       "      <td>-0.083064</td>\n",
       "      <td>0.009292</td>\n",
       "      <td>-0.048738</td>\n",
       "      <td>-0.016222</td>\n",
       "      <td>1.000000</td>\n",
       "      <td>0.065659</td>\n",
       "    </tr>\n",
       "    <tr>\n",
       "      <th>score</th>\n",
       "      <td>-0.158186</td>\n",
       "      <td>0.203961</td>\n",
       "      <td>0.142784</td>\n",
       "      <td>-0.058698</td>\n",
       "      <td>0.113763</td>\n",
       "      <td>-0.332141</td>\n",
       "      <td>0.052304</td>\n",
       "      <td>0.015960</td>\n",
       "      <td>-0.130873</td>\n",
       "      <td>-0.069725</td>\n",
       "      <td>0.065659</td>\n",
       "      <td>1.000000</td>\n",
       "    </tr>\n",
       "  </tbody>\n",
       "</table>\n",
       "</div>"
      ],
      "text/plain": [
       "                 age      Medu      Fedu  traveltime  studytime  failures  \\\n",
       "age         1.000000 -0.160777 -0.157545    0.084755  -0.015355  0.228081   \n",
       "Medu       -0.160777  1.000000  0.586435   -0.164282   0.073607 -0.243821   \n",
       "Fedu       -0.157545  0.586435  1.000000   -0.113888   0.008118 -0.267302   \n",
       "traveltime  0.084755 -0.164282 -0.113888    1.000000  -0.094637  0.049670   \n",
       "studytime  -0.015355  0.073607  0.008118   -0.094637   1.000000 -0.166598   \n",
       "failures    0.228081 -0.243821 -0.267302    0.049670  -0.166598  1.000000   \n",
       "famrel      0.067415 -0.013749 -0.021947   -0.019207   0.039005 -0.017503   \n",
       "freetime    0.029023  0.029000 -0.032625   -0.011383  -0.120215  0.094530   \n",
       "goout       0.135107  0.063253  0.041927    0.050800  -0.050773  0.113897   \n",
       "health     -0.065946 -0.047992  0.013237   -0.046027  -0.079415  0.078668   \n",
       "absences    0.093592 -0.013124  0.024411   -0.040324  -0.026502  0.057952   \n",
       "score      -0.158186  0.203961  0.142784   -0.058698   0.113763 -0.332141   \n",
       "\n",
       "              famrel  freetime     goout    health  absences     score  \n",
       "age         0.067415  0.029023  0.135107 -0.065946  0.093592 -0.158186  \n",
       "Medu       -0.013749  0.029000  0.063253 -0.047992 -0.013124  0.203961  \n",
       "Fedu       -0.021947 -0.032625  0.041927  0.013237  0.024411  0.142784  \n",
       "traveltime -0.019207 -0.011383  0.050800 -0.046027 -0.040324 -0.058698  \n",
       "studytime   0.039005 -0.120215 -0.050773 -0.079415 -0.026502  0.113763  \n",
       "failures   -0.017503  0.094530  0.113897  0.078668  0.057952 -0.332141  \n",
       "famrel      1.000000  0.172751  0.077167  0.086309 -0.083064  0.052304  \n",
       "freetime    0.172751  1.000000  0.296437  0.061575  0.009292  0.015960  \n",
       "goout       0.077167  0.296437  1.000000 -0.015608 -0.048738 -0.130873  \n",
       "health      0.086309  0.061575 -0.015608  1.000000 -0.016222 -0.069725  \n",
       "absences   -0.083064  0.009292 -0.048738 -0.016222  1.000000  0.065659  \n",
       "score       0.052304  0.015960 -0.130873 -0.069725  0.065659  1.000000  "
      ]
     },
     "execution_count": 622,
     "metadata": {},
     "output_type": "execute_result"
    }
   ],
   "source": [
    "unicef.corr()"
   ]
  },
  {
   "cell_type": "code",
   "execution_count": 623,
   "id": "ad354832",
   "metadata": {},
   "outputs": [
    {
     "data": {
      "text/plain": [
       "5.0    138\n",
       "3.0     89\n",
       "4.0     63\n",
       "1.0     47\n",
       "2.0     43\n",
       "Name: health, dtype: int64"
      ]
     },
     "execution_count": 623,
     "metadata": {},
     "output_type": "execute_result"
    }
   ],
   "source": [
    "unicef.health.value_counts()"
   ]
  },
  {
   "cell_type": "code",
   "execution_count": 624,
   "id": "376ba40e",
   "metadata": {},
   "outputs": [],
   "source": [
    "# дозаполним health\n",
    "unicef['health'].fillna(5.0)\n",
    "unicef['health'].fillna(unicef['health'].value_counts().index[0], inplace = True)"
   ]
  },
  {
   "cell_type": "code",
   "execution_count": 625,
   "id": "d1992e54",
   "metadata": {},
   "outputs": [
    {
     "data": {
      "text/plain": [
       "famrel  health\n",
       "1.0     1.0        4\n",
       "        5.0        3\n",
       "        3.0        1\n",
       "2.0     3.0        5\n",
       "        4.0        4\n",
       "        2.0        3\n",
       "        5.0        3\n",
       "        1.0        2\n",
       "3.0     3.0       20\n",
       "        5.0       18\n",
       "        4.0       10\n",
       "        2.0        8\n",
       "        1.0        6\n",
       "4.0     5.0       74\n",
       "        3.0       43\n",
       "        4.0       27\n",
       "        2.0       21\n",
       "        1.0       17\n",
       "5.0     5.0       38\n",
       "        4.0       19\n",
       "        3.0       18\n",
       "        1.0       14\n",
       "        2.0       10\n",
       "Name: health, dtype: int64"
      ]
     },
     "execution_count": 625,
     "metadata": {},
     "output_type": "execute_result"
    }
   ],
   "source": [
    "unicef.groupby(by = ['famrel'])['health'].value_counts()"
   ]
  },
  {
   "cell_type": "code",
   "execution_count": 626,
   "id": "3a933231",
   "metadata": {},
   "outputs": [],
   "source": [
    "# исходя из того то на famrel более влияет health\n",
    "# исходя из это заоплним пропуски в famrel\n",
    "unicef.famrel  = unicef[['famrel', 'health']].apply(lambda x: 3.0 if x[1]== 3.0 and pd.isnull(x[0]) else x[0], axis=1)\n",
    "unicef.famrel  = unicef[['famrel','health']].apply(lambda x: 4.0 if x[1]== 5.0 and pd.isnull(x[0]) else x[0], axis=1)\n",
    "unicef.famrel  = unicef[['famrel','health']].apply(lambda x: 5.0 if x[1]== 5.0 and pd.isnull(x[0]) else x[0], axis=1)\n",
    "unicef.famrel  = unicef[['famrel','health']].apply(lambda x: 1.0 if x[1]== 1.0 and pd.isnull(x[0]) else x[0], axis=1)\n",
    "unicef.famrel  = unicef[['famrel','health']].apply(lambda x: 2.0 if x[1]== 3.0 and pd.isnull(x[0]) else x[0], axis=1)"
   ]
  },
  {
   "cell_type": "code",
   "execution_count": 627,
   "id": "083ec4ab",
   "metadata": {},
   "outputs": [
    {
     "data": {
      "text/plain": [
       "4.0    199\n",
       "5.0     99\n",
       "3.0     64\n",
       "2.0     17\n",
       "1.0     12\n",
       "Name: famrel, dtype: int64"
      ]
     },
     "execution_count": 627,
     "metadata": {},
     "output_type": "execute_result"
    }
   ],
   "source": [
    "unicef.famrel.value_counts()"
   ]
  },
  {
   "cell_type": "code",
   "execution_count": 633,
   "id": "49c7b46f",
   "metadata": {},
   "outputs": [],
   "source": [
    "# дозаполним famrel\n",
    "unicef['famrel'].fillna(4.0)\n",
    "unicef['famrel'].fillna(unicef['famrel'].value_counts().index[0], inplace = True)"
   ]
  },
  {
   "cell_type": "code",
   "execution_count": 628,
   "id": "d0058dc3",
   "metadata": {},
   "outputs": [],
   "source": [
    "# дозаполним freetime\n",
    "unicef['freetime'].fillna(3.0)\n",
    "unicef['freetime'].fillna(unicef['freetime'].value_counts().index[0], inplace = True)"
   ]
  },
  {
   "cell_type": "code",
   "execution_count": 629,
   "id": "dacc5e2d",
   "metadata": {},
   "outputs": [
    {
     "data": {
      "text/plain": [
       "3.0    127\n",
       "2.0    101\n",
       "4.0     84\n",
       "5.0     52\n",
       "1.0     23\n",
       "Name: goout, dtype: int64"
      ]
     },
     "execution_count": 629,
     "metadata": {},
     "output_type": "execute_result"
    }
   ],
   "source": [
    "unicef.goout.value_counts()"
   ]
  },
  {
   "cell_type": "code",
   "execution_count": 630,
   "id": "595704a2",
   "metadata": {},
   "outputs": [
    {
     "data": {
      "text/plain": [
       "freetime  goout\n",
       "1.0       2.0       7\n",
       "          1.0       4\n",
       "          3.0       4\n",
       "          4.0       1\n",
       "          5.0       1\n",
       "2.0       2.0      26\n",
       "          3.0      17\n",
       "          4.0      11\n",
       "          1.0       5\n",
       "          5.0       4\n",
       "3.0       3.0      69\n",
       "          2.0      43\n",
       "          4.0      27\n",
       "          5.0      14\n",
       "          1.0       6\n",
       "4.0       4.0      39\n",
       "          3.0      33\n",
       "          2.0      18\n",
       "          5.0      17\n",
       "          1.0       4\n",
       "5.0       5.0      16\n",
       "          2.0       7\n",
       "          4.0       6\n",
       "          1.0       4\n",
       "          3.0       4\n",
       "Name: goout, dtype: int64"
      ]
     },
     "execution_count": 630,
     "metadata": {},
     "output_type": "execute_result"
    }
   ],
   "source": [
    "unicef.groupby(by = ['freetime'])['goout'].value_counts()"
   ]
  },
  {
   "cell_type": "code",
   "execution_count": 631,
   "id": "f0085ae4",
   "metadata": {},
   "outputs": [],
   "source": [
    "# исходя из того то на goout более влияет freetime\n",
    "# исходя из это заоплним пропуски в goout\n",
    "unicef.goout  = unicef[['goout', 'freetime']].apply(lambda x: 2.0 if x[1]== 1.0 and pd.isnull(x[0]) else x[0], axis=1)\n",
    "unicef.goout  = unicef[['goout','freetime']].apply(lambda x: 2.0 if x[1]== 2.0 and pd.isnull(x[0]) else x[0], axis=1)\n",
    "unicef.goout  = unicef[['goout','freetime']].apply(lambda x: 3.0 if x[1]== 3.0 and pd.isnull(x[0]) else x[0], axis=1)\n",
    "unicef.goout  = unicef[['goout','freetime']].apply(lambda x: 4.0 if x[1]== 4.0 and pd.isnull(x[0]) else x[0], axis=1)\n",
    "unicef.goout  = unicef[['goout','freetime']].apply(lambda x: 5.0 if x[1]== 5.0 and pd.isnull(x[0]) else x[0], axis=1)"
   ]
  },
  {
   "cell_type": "code",
   "execution_count": 639,
   "id": "9985d144",
   "metadata": {},
   "outputs": [
    {
     "name": "stdout",
     "output_type": "stream",
     "text": [
      "<class 'pandas.core.frame.DataFrame'>\n",
      "RangeIndex: 395 entries, 0 to 394\n",
      "Data columns (total 28 columns):\n",
      " #   Column      Non-Null Count  Dtype  \n",
      "---  ------      --------------  -----  \n",
      " 0   sex         395 non-null    object \n",
      " 1   age         395 non-null    int64  \n",
      " 2   address     395 non-null    object \n",
      " 3   famsize     395 non-null    object \n",
      " 4   Pstatus     395 non-null    object \n",
      " 5   Medu        395 non-null    float64\n",
      " 6   Fedu        395 non-null    float64\n",
      " 7   Mjob        395 non-null    object \n",
      " 8   Fjob        395 non-null    object \n",
      " 9   reason      395 non-null    object \n",
      " 10  guardian    395 non-null    object \n",
      " 11  traveltime  395 non-null    float64\n",
      " 12  studytime   395 non-null    float64\n",
      " 13  failures    395 non-null    float64\n",
      " 14  schoolsup   395 non-null    object \n",
      " 15  famsup      395 non-null    object \n",
      " 16  paid        395 non-null    object \n",
      " 17  activities  395 non-null    object \n",
      " 18  nursery     395 non-null    object \n",
      " 19  higher      395 non-null    object \n",
      " 20  internet    395 non-null    object \n",
      " 21  romantic    395 non-null    object \n",
      " 22  famrel      395 non-null    float64\n",
      " 23  freetime    395 non-null    float64\n",
      " 24  goout       395 non-null    float64\n",
      " 25  health      395 non-null    float64\n",
      " 26  absences    395 non-null    float64\n",
      " 27  score       395 non-null    float64\n",
      "dtypes: float64(11), int64(1), object(16)\n",
      "memory usage: 86.5+ KB\n"
     ]
    }
   ],
   "source": [
    "unicef.info()"
   ]
  },
  {
   "cell_type": "code",
   "execution_count": 635,
   "id": "a32697aa",
   "metadata": {},
   "outputs": [
    {
     "data": {
      "text/plain": [
       "age  absences\n",
       "15   0.0         28\n",
       "     2.0         20\n",
       "     6.0         10\n",
       "     4.0          9\n",
       "     8.0          7\n",
       "                 ..\n",
       "20   0.0          1\n",
       "     4.0          1\n",
       "     212.0        1\n",
       "21   3.0          1\n",
       "22   16.0         1\n",
       "Name: absences, Length: 86, dtype: int64"
      ]
     },
     "execution_count": 635,
     "metadata": {},
     "output_type": "execute_result"
    }
   ],
   "source": [
    "unicef.groupby(by = ['age'])['absences'].value_counts()"
   ]
  },
  {
   "cell_type": "code",
   "execution_count": 637,
   "id": "c44b8b47",
   "metadata": {},
   "outputs": [
    {
     "data": {
      "text/plain": [
       "7.2793733681462145"
      ]
     },
     "execution_count": 637,
     "metadata": {},
     "output_type": "execute_result"
    }
   ],
   "source": [
    "unicef.absences.mean()"
   ]
  },
  {
   "cell_type": "code",
   "execution_count": 638,
   "id": "4c0bd9cb",
   "metadata": {},
   "outputs": [],
   "source": [
    "# дозаполним absences\n",
    "unicef['absences'].fillna(7.0)\n",
    "unicef['absences'].fillna(unicef['absences'].value_counts().index[0], inplace = True)"
   ]
  },
  {
   "cell_type": "code",
   "execution_count": 640,
   "id": "2cc531f5",
   "metadata": {},
   "outputs": [
    {
     "data": {
      "text/html": [
       "<div>\n",
       "<style scoped>\n",
       "    .dataframe tbody tr th:only-of-type {\n",
       "        vertical-align: middle;\n",
       "    }\n",
       "\n",
       "    .dataframe tbody tr th {\n",
       "        vertical-align: top;\n",
       "    }\n",
       "\n",
       "    .dataframe thead th {\n",
       "        text-align: right;\n",
       "    }\n",
       "</style>\n",
       "<table border=\"1\" class=\"dataframe\">\n",
       "  <thead>\n",
       "    <tr style=\"text-align: right;\">\n",
       "      <th></th>\n",
       "      <th>age</th>\n",
       "      <th>Medu</th>\n",
       "      <th>Fedu</th>\n",
       "      <th>traveltime</th>\n",
       "      <th>studytime</th>\n",
       "      <th>failures</th>\n",
       "      <th>famrel</th>\n",
       "      <th>freetime</th>\n",
       "      <th>goout</th>\n",
       "      <th>health</th>\n",
       "      <th>absences</th>\n",
       "      <th>score</th>\n",
       "    </tr>\n",
       "  </thead>\n",
       "  <tbody>\n",
       "    <tr>\n",
       "      <th>age</th>\n",
       "      <td>1.000000</td>\n",
       "      <td>-0.160777</td>\n",
       "      <td>-0.157545</td>\n",
       "      <td>0.084755</td>\n",
       "      <td>-0.015355</td>\n",
       "      <td>0.228081</td>\n",
       "      <td>0.086958</td>\n",
       "      <td>0.026443</td>\n",
       "      <td>0.143337</td>\n",
       "      <td>-0.060506</td>\n",
       "      <td>0.090515</td>\n",
       "      <td>-0.158186</td>\n",
       "    </tr>\n",
       "    <tr>\n",
       "      <th>Medu</th>\n",
       "      <td>-0.160777</td>\n",
       "      <td>1.000000</td>\n",
       "      <td>0.586435</td>\n",
       "      <td>-0.164282</td>\n",
       "      <td>0.073607</td>\n",
       "      <td>-0.243821</td>\n",
       "      <td>0.001456</td>\n",
       "      <td>0.029204</td>\n",
       "      <td>0.048507</td>\n",
       "      <td>-0.066406</td>\n",
       "      <td>-0.010623</td>\n",
       "      <td>0.203961</td>\n",
       "    </tr>\n",
       "    <tr>\n",
       "      <th>Fedu</th>\n",
       "      <td>-0.157545</td>\n",
       "      <td>0.586435</td>\n",
       "      <td>1.000000</td>\n",
       "      <td>-0.113888</td>\n",
       "      <td>0.008118</td>\n",
       "      <td>-0.267302</td>\n",
       "      <td>-0.006006</td>\n",
       "      <td>-0.029846</td>\n",
       "      <td>0.033114</td>\n",
       "      <td>-0.012573</td>\n",
       "      <td>0.019964</td>\n",
       "      <td>0.142784</td>\n",
       "    </tr>\n",
       "    <tr>\n",
       "      <th>traveltime</th>\n",
       "      <td>0.084755</td>\n",
       "      <td>-0.164282</td>\n",
       "      <td>-0.113888</td>\n",
       "      <td>1.000000</td>\n",
       "      <td>-0.094637</td>\n",
       "      <td>0.049670</td>\n",
       "      <td>0.001077</td>\n",
       "      <td>-0.012496</td>\n",
       "      <td>0.048733</td>\n",
       "      <td>-0.044325</td>\n",
       "      <td>-0.036597</td>\n",
       "      <td>-0.058698</td>\n",
       "    </tr>\n",
       "    <tr>\n",
       "      <th>studytime</th>\n",
       "      <td>-0.015355</td>\n",
       "      <td>0.073607</td>\n",
       "      <td>0.008118</td>\n",
       "      <td>-0.094637</td>\n",
       "      <td>1.000000</td>\n",
       "      <td>-0.166598</td>\n",
       "      <td>0.053783</td>\n",
       "      <td>-0.119014</td>\n",
       "      <td>-0.051004</td>\n",
       "      <td>-0.064860</td>\n",
       "      <td>-0.024824</td>\n",
       "      <td>0.113763</td>\n",
       "    </tr>\n",
       "    <tr>\n",
       "      <th>failures</th>\n",
       "      <td>0.228081</td>\n",
       "      <td>-0.243821</td>\n",
       "      <td>-0.267302</td>\n",
       "      <td>0.049670</td>\n",
       "      <td>-0.166598</td>\n",
       "      <td>1.000000</td>\n",
       "      <td>-0.003162</td>\n",
       "      <td>0.094826</td>\n",
       "      <td>0.117281</td>\n",
       "      <td>0.072497</td>\n",
       "      <td>0.053869</td>\n",
       "      <td>-0.332141</td>\n",
       "    </tr>\n",
       "    <tr>\n",
       "      <th>famrel</th>\n",
       "      <td>0.086958</td>\n",
       "      <td>0.001456</td>\n",
       "      <td>-0.006006</td>\n",
       "      <td>0.001077</td>\n",
       "      <td>0.053783</td>\n",
       "      <td>-0.003162</td>\n",
       "      <td>1.000000</td>\n",
       "      <td>0.139825</td>\n",
       "      <td>0.096024</td>\n",
       "      <td>0.148593</td>\n",
       "      <td>-0.070917</td>\n",
       "      <td>0.031658</td>\n",
       "    </tr>\n",
       "    <tr>\n",
       "      <th>freetime</th>\n",
       "      <td>0.026443</td>\n",
       "      <td>0.029204</td>\n",
       "      <td>-0.029846</td>\n",
       "      <td>-0.012496</td>\n",
       "      <td>-0.119014</td>\n",
       "      <td>0.094826</td>\n",
       "      <td>0.139825</td>\n",
       "      <td>1.000000</td>\n",
       "      <td>0.305881</td>\n",
       "      <td>0.064299</td>\n",
       "      <td>0.006355</td>\n",
       "      <td>0.014720</td>\n",
       "    </tr>\n",
       "    <tr>\n",
       "      <th>goout</th>\n",
       "      <td>0.143337</td>\n",
       "      <td>0.048507</td>\n",
       "      <td>0.033114</td>\n",
       "      <td>0.048733</td>\n",
       "      <td>-0.051004</td>\n",
       "      <td>0.117281</td>\n",
       "      <td>0.096024</td>\n",
       "      <td>0.305881</td>\n",
       "      <td>1.000000</td>\n",
       "      <td>-0.018397</td>\n",
       "      <td>-0.054252</td>\n",
       "      <td>-0.128333</td>\n",
       "    </tr>\n",
       "    <tr>\n",
       "      <th>health</th>\n",
       "      <td>-0.060506</td>\n",
       "      <td>-0.066406</td>\n",
       "      <td>-0.012573</td>\n",
       "      <td>-0.044325</td>\n",
       "      <td>-0.064860</td>\n",
       "      <td>0.072497</td>\n",
       "      <td>0.148593</td>\n",
       "      <td>0.064299</td>\n",
       "      <td>-0.018397</td>\n",
       "      <td>1.000000</td>\n",
       "      <td>-0.020365</td>\n",
       "      <td>-0.079668</td>\n",
       "    </tr>\n",
       "    <tr>\n",
       "      <th>absences</th>\n",
       "      <td>0.090515</td>\n",
       "      <td>-0.010623</td>\n",
       "      <td>0.019964</td>\n",
       "      <td>-0.036597</td>\n",
       "      <td>-0.024824</td>\n",
       "      <td>0.053869</td>\n",
       "      <td>-0.070917</td>\n",
       "      <td>0.006355</td>\n",
       "      <td>-0.054252</td>\n",
       "      <td>-0.020365</td>\n",
       "      <td>1.000000</td>\n",
       "      <td>0.061285</td>\n",
       "    </tr>\n",
       "    <tr>\n",
       "      <th>score</th>\n",
       "      <td>-0.158186</td>\n",
       "      <td>0.203961</td>\n",
       "      <td>0.142784</td>\n",
       "      <td>-0.058698</td>\n",
       "      <td>0.113763</td>\n",
       "      <td>-0.332141</td>\n",
       "      <td>0.031658</td>\n",
       "      <td>0.014720</td>\n",
       "      <td>-0.128333</td>\n",
       "      <td>-0.079668</td>\n",
       "      <td>0.061285</td>\n",
       "      <td>1.000000</td>\n",
       "    </tr>\n",
       "  </tbody>\n",
       "</table>\n",
       "</div>"
      ],
      "text/plain": [
       "                 age      Medu      Fedu  traveltime  studytime  failures  \\\n",
       "age         1.000000 -0.160777 -0.157545    0.084755  -0.015355  0.228081   \n",
       "Medu       -0.160777  1.000000  0.586435   -0.164282   0.073607 -0.243821   \n",
       "Fedu       -0.157545  0.586435  1.000000   -0.113888   0.008118 -0.267302   \n",
       "traveltime  0.084755 -0.164282 -0.113888    1.000000  -0.094637  0.049670   \n",
       "studytime  -0.015355  0.073607  0.008118   -0.094637   1.000000 -0.166598   \n",
       "failures    0.228081 -0.243821 -0.267302    0.049670  -0.166598  1.000000   \n",
       "famrel      0.086958  0.001456 -0.006006    0.001077   0.053783 -0.003162   \n",
       "freetime    0.026443  0.029204 -0.029846   -0.012496  -0.119014  0.094826   \n",
       "goout       0.143337  0.048507  0.033114    0.048733  -0.051004  0.117281   \n",
       "health     -0.060506 -0.066406 -0.012573   -0.044325  -0.064860  0.072497   \n",
       "absences    0.090515 -0.010623  0.019964   -0.036597  -0.024824  0.053869   \n",
       "score      -0.158186  0.203961  0.142784   -0.058698   0.113763 -0.332141   \n",
       "\n",
       "              famrel  freetime     goout    health  absences     score  \n",
       "age         0.086958  0.026443  0.143337 -0.060506  0.090515 -0.158186  \n",
       "Medu        0.001456  0.029204  0.048507 -0.066406 -0.010623  0.203961  \n",
       "Fedu       -0.006006 -0.029846  0.033114 -0.012573  0.019964  0.142784  \n",
       "traveltime  0.001077 -0.012496  0.048733 -0.044325 -0.036597 -0.058698  \n",
       "studytime   0.053783 -0.119014 -0.051004 -0.064860 -0.024824  0.113763  \n",
       "failures   -0.003162  0.094826  0.117281  0.072497  0.053869 -0.332141  \n",
       "famrel      1.000000  0.139825  0.096024  0.148593 -0.070917  0.031658  \n",
       "freetime    0.139825  1.000000  0.305881  0.064299  0.006355  0.014720  \n",
       "goout       0.096024  0.305881  1.000000 -0.018397 -0.054252 -0.128333  \n",
       "health      0.148593  0.064299 -0.018397  1.000000 -0.020365 -0.079668  \n",
       "absences   -0.070917  0.006355 -0.054252 -0.020365  1.000000  0.061285  \n",
       "score       0.031658  0.014720 -0.128333 -0.079668  0.061285  1.000000  "
      ]
     },
     "execution_count": 640,
     "metadata": {},
     "output_type": "execute_result"
    }
   ],
   "source": [
    "unicef.corr()\n"
   ]
  },
  {
   "cell_type": "code",
   "execution_count": 642,
   "id": "f0cb1c55",
   "metadata": {},
   "outputs": [],
   "source": [
    "def get_stat_dif(column):\n",
    "    cols = unicef.loc[:, column].value_counts().index[:10]\n",
    "    combinations_all = list(combinations(cols, 2))\n",
    "    for comb in combinations_all:\n",
    "        if ttest_ind(unicef.loc[unicef.loc[:, column] == comb[0], 'score'], \n",
    "                        unicef.loc[unicef.loc[:, column] == comb[1], 'score']).pvalue \\\n",
    "            <= 0.05/len(combinations_all): # Учли поправку Бонферони\n",
    "            print('Найдены статистически значимые различия для колонки', column)\n",
    "            break"
   ]
  },
  {
   "cell_type": "code",
   "execution_count": 643,
   "id": "5fd1438f",
   "metadata": {},
   "outputs": [
    {
     "name": "stdout",
     "output_type": "stream",
     "text": [
      "Найдены статистически значимые различия для колонки Medu\n",
      "Найдены статистически значимые различия для колонки Fedu\n",
      "Найдены статистически значимые различия для колонки absences\n"
     ]
    }
   ],
   "source": [
    "for col in ['Medu', 'Fedu', 'studytime', 'absences']:\n",
    "    get_stat_dif(col)"
   ]
  },
  {
   "cell_type": "code",
   "execution_count": 644,
   "id": "3f3d01e3",
   "metadata": {},
   "outputs": [
    {
     "name": "stdout",
     "output_type": "stream",
     "text": [
      "Найдены статистически значимые различия для колонки Mjob\n"
     ]
    }
   ],
   "source": [
    "for col in ['Pstatus', 'Mjob', 'Fjob', 'reason']:\n",
    "    get_stat_dif(col)"
   ]
  },
  {
   "cell_type": "code",
   "execution_count": 645,
   "id": "54419bc6",
   "metadata": {},
   "outputs": [
    {
     "name": "stdout",
     "output_type": "stream",
     "text": [
      "Найдены статистически значимые различия для колонки paid\n"
     ]
    }
   ],
   "source": [
    "for col in ['guardian', 'schoolsup', 'famsup', 'paid', 'activities', 'nursery' ]:\n",
    "    get_stat_dif(col)"
   ]
  },
  {
   "cell_type": "code",
   "execution_count": 646,
   "id": "33a95333",
   "metadata": {},
   "outputs": [
    {
     "name": "stdout",
     "output_type": "stream",
     "text": [
      "Найдены статистически значимые различия для колонки higher\n"
     ]
    },
    {
     "ename": "KeyError",
     "evalue": "'internet '",
     "output_type": "error",
     "traceback": [
      "\u001b[0;31m---------------------------------------------------------------------------\u001b[0m",
      "\u001b[0;31mKeyError\u001b[0m                                  Traceback (most recent call last)",
      "\u001b[0;32m~/opt/anaconda3/lib/python3.8/site-packages/pandas/core/indexes/base.py\u001b[0m in \u001b[0;36mget_loc\u001b[0;34m(self, key, method, tolerance)\u001b[0m\n\u001b[1;32m   3079\u001b[0m             \u001b[0;32mtry\u001b[0m\u001b[0;34m:\u001b[0m\u001b[0;34m\u001b[0m\u001b[0;34m\u001b[0m\u001b[0m\n\u001b[0;32m-> 3080\u001b[0;31m                 \u001b[0;32mreturn\u001b[0m \u001b[0mself\u001b[0m\u001b[0;34m.\u001b[0m\u001b[0m_engine\u001b[0m\u001b[0;34m.\u001b[0m\u001b[0mget_loc\u001b[0m\u001b[0;34m(\u001b[0m\u001b[0mcasted_key\u001b[0m\u001b[0;34m)\u001b[0m\u001b[0;34m\u001b[0m\u001b[0;34m\u001b[0m\u001b[0m\n\u001b[0m\u001b[1;32m   3081\u001b[0m             \u001b[0;32mexcept\u001b[0m \u001b[0mKeyError\u001b[0m \u001b[0;32mas\u001b[0m \u001b[0merr\u001b[0m\u001b[0;34m:\u001b[0m\u001b[0;34m\u001b[0m\u001b[0;34m\u001b[0m\u001b[0m\n",
      "\u001b[0;32mpandas/_libs/index.pyx\u001b[0m in \u001b[0;36mpandas._libs.index.IndexEngine.get_loc\u001b[0;34m()\u001b[0m\n",
      "\u001b[0;32mpandas/_libs/index.pyx\u001b[0m in \u001b[0;36mpandas._libs.index.IndexEngine.get_loc\u001b[0;34m()\u001b[0m\n",
      "\u001b[0;32mpandas/_libs/hashtable_class_helper.pxi\u001b[0m in \u001b[0;36mpandas._libs.hashtable.PyObjectHashTable.get_item\u001b[0;34m()\u001b[0m\n",
      "\u001b[0;32mpandas/_libs/hashtable_class_helper.pxi\u001b[0m in \u001b[0;36mpandas._libs.hashtable.PyObjectHashTable.get_item\u001b[0;34m()\u001b[0m\n",
      "\u001b[0;31mKeyError\u001b[0m: 'internet '",
      "\nThe above exception was the direct cause of the following exception:\n",
      "\u001b[0;31mKeyError\u001b[0m                                  Traceback (most recent call last)",
      "\u001b[0;32m<ipython-input-646-46a946e433df>\u001b[0m in \u001b[0;36m<module>\u001b[0;34m\u001b[0m\n\u001b[1;32m      1\u001b[0m \u001b[0;32mfor\u001b[0m \u001b[0mcol\u001b[0m \u001b[0;32min\u001b[0m \u001b[0;34m[\u001b[0m\u001b[0;34m'higher'\u001b[0m\u001b[0;34m,\u001b[0m \u001b[0;34m'internet '\u001b[0m\u001b[0;34m,\u001b[0m \u001b[0;34m' romantic '\u001b[0m\u001b[0;34m]\u001b[0m\u001b[0;34m:\u001b[0m\u001b[0;34m\u001b[0m\u001b[0;34m\u001b[0m\u001b[0m\n\u001b[0;32m----> 2\u001b[0;31m     \u001b[0mget_stat_dif\u001b[0m\u001b[0;34m(\u001b[0m\u001b[0mcol\u001b[0m\u001b[0;34m)\u001b[0m\u001b[0;34m\u001b[0m\u001b[0;34m\u001b[0m\u001b[0m\n\u001b[0m",
      "\u001b[0;32m<ipython-input-642-f0e039030796>\u001b[0m in \u001b[0;36mget_stat_dif\u001b[0;34m(column)\u001b[0m\n\u001b[1;32m      1\u001b[0m \u001b[0;32mdef\u001b[0m \u001b[0mget_stat_dif\u001b[0m\u001b[0;34m(\u001b[0m\u001b[0mcolumn\u001b[0m\u001b[0;34m)\u001b[0m\u001b[0;34m:\u001b[0m\u001b[0;34m\u001b[0m\u001b[0;34m\u001b[0m\u001b[0m\n\u001b[0;32m----> 2\u001b[0;31m     \u001b[0mcols\u001b[0m \u001b[0;34m=\u001b[0m \u001b[0municef\u001b[0m\u001b[0;34m.\u001b[0m\u001b[0mloc\u001b[0m\u001b[0;34m[\u001b[0m\u001b[0;34m:\u001b[0m\u001b[0;34m,\u001b[0m \u001b[0mcolumn\u001b[0m\u001b[0;34m]\u001b[0m\u001b[0;34m.\u001b[0m\u001b[0mvalue_counts\u001b[0m\u001b[0;34m(\u001b[0m\u001b[0;34m)\u001b[0m\u001b[0;34m.\u001b[0m\u001b[0mindex\u001b[0m\u001b[0;34m[\u001b[0m\u001b[0;34m:\u001b[0m\u001b[0;36m10\u001b[0m\u001b[0;34m]\u001b[0m\u001b[0;34m\u001b[0m\u001b[0;34m\u001b[0m\u001b[0m\n\u001b[0m\u001b[1;32m      3\u001b[0m     \u001b[0mcombinations_all\u001b[0m \u001b[0;34m=\u001b[0m \u001b[0mlist\u001b[0m\u001b[0;34m(\u001b[0m\u001b[0mcombinations\u001b[0m\u001b[0;34m(\u001b[0m\u001b[0mcols\u001b[0m\u001b[0;34m,\u001b[0m \u001b[0;36m2\u001b[0m\u001b[0;34m)\u001b[0m\u001b[0;34m)\u001b[0m\u001b[0;34m\u001b[0m\u001b[0;34m\u001b[0m\u001b[0m\n\u001b[1;32m      4\u001b[0m     \u001b[0;32mfor\u001b[0m \u001b[0mcomb\u001b[0m \u001b[0;32min\u001b[0m \u001b[0mcombinations_all\u001b[0m\u001b[0;34m:\u001b[0m\u001b[0;34m\u001b[0m\u001b[0;34m\u001b[0m\u001b[0m\n\u001b[1;32m      5\u001b[0m         if ttest_ind(unicef.loc[unicef.loc[:, column] == comb[0], 'score'], \n",
      "\u001b[0;32m~/opt/anaconda3/lib/python3.8/site-packages/pandas/core/indexing.py\u001b[0m in \u001b[0;36m__getitem__\u001b[0;34m(self, key)\u001b[0m\n\u001b[1;32m    887\u001b[0m                     \u001b[0;31m# AttributeError for IntervalTree get_value\u001b[0m\u001b[0;34m\u001b[0m\u001b[0;34m\u001b[0m\u001b[0;34m\u001b[0m\u001b[0m\n\u001b[1;32m    888\u001b[0m                     \u001b[0;32mreturn\u001b[0m \u001b[0mself\u001b[0m\u001b[0;34m.\u001b[0m\u001b[0mobj\u001b[0m\u001b[0;34m.\u001b[0m\u001b[0m_get_value\u001b[0m\u001b[0;34m(\u001b[0m\u001b[0;34m*\u001b[0m\u001b[0mkey\u001b[0m\u001b[0;34m,\u001b[0m \u001b[0mtakeable\u001b[0m\u001b[0;34m=\u001b[0m\u001b[0mself\u001b[0m\u001b[0;34m.\u001b[0m\u001b[0m_takeable\u001b[0m\u001b[0;34m)\u001b[0m\u001b[0;34m\u001b[0m\u001b[0;34m\u001b[0m\u001b[0m\n\u001b[0;32m--> 889\u001b[0;31m             \u001b[0;32mreturn\u001b[0m \u001b[0mself\u001b[0m\u001b[0;34m.\u001b[0m\u001b[0m_getitem_tuple\u001b[0m\u001b[0;34m(\u001b[0m\u001b[0mkey\u001b[0m\u001b[0;34m)\u001b[0m\u001b[0;34m\u001b[0m\u001b[0;34m\u001b[0m\u001b[0m\n\u001b[0m\u001b[1;32m    890\u001b[0m         \u001b[0;32melse\u001b[0m\u001b[0;34m:\u001b[0m\u001b[0;34m\u001b[0m\u001b[0;34m\u001b[0m\u001b[0m\n\u001b[1;32m    891\u001b[0m             \u001b[0;31m# we by definition only have the 0th axis\u001b[0m\u001b[0;34m\u001b[0m\u001b[0;34m\u001b[0m\u001b[0;34m\u001b[0m\u001b[0m\n",
      "\u001b[0;32m~/opt/anaconda3/lib/python3.8/site-packages/pandas/core/indexing.py\u001b[0m in \u001b[0;36m_getitem_tuple\u001b[0;34m(self, tup)\u001b[0m\n\u001b[1;32m   1058\u001b[0m     \u001b[0;32mdef\u001b[0m \u001b[0m_getitem_tuple\u001b[0m\u001b[0;34m(\u001b[0m\u001b[0mself\u001b[0m\u001b[0;34m,\u001b[0m \u001b[0mtup\u001b[0m\u001b[0;34m:\u001b[0m \u001b[0mTuple\u001b[0m\u001b[0;34m)\u001b[0m\u001b[0;34m:\u001b[0m\u001b[0;34m\u001b[0m\u001b[0;34m\u001b[0m\u001b[0m\n\u001b[1;32m   1059\u001b[0m         \u001b[0;32mwith\u001b[0m \u001b[0msuppress\u001b[0m\u001b[0;34m(\u001b[0m\u001b[0mIndexingError\u001b[0m\u001b[0;34m)\u001b[0m\u001b[0;34m:\u001b[0m\u001b[0;34m\u001b[0m\u001b[0;34m\u001b[0m\u001b[0m\n\u001b[0;32m-> 1060\u001b[0;31m             \u001b[0;32mreturn\u001b[0m \u001b[0mself\u001b[0m\u001b[0;34m.\u001b[0m\u001b[0m_getitem_lowerdim\u001b[0m\u001b[0;34m(\u001b[0m\u001b[0mtup\u001b[0m\u001b[0;34m)\u001b[0m\u001b[0;34m\u001b[0m\u001b[0;34m\u001b[0m\u001b[0m\n\u001b[0m\u001b[1;32m   1061\u001b[0m \u001b[0;34m\u001b[0m\u001b[0m\n\u001b[1;32m   1062\u001b[0m         \u001b[0;31m# no multi-index, so validate all of the indexers\u001b[0m\u001b[0;34m\u001b[0m\u001b[0;34m\u001b[0m\u001b[0;34m\u001b[0m\u001b[0m\n",
      "\u001b[0;32m~/opt/anaconda3/lib/python3.8/site-packages/pandas/core/indexing.py\u001b[0m in \u001b[0;36m_getitem_lowerdim\u001b[0;34m(self, tup)\u001b[0m\n\u001b[1;32m    805\u001b[0m                 \u001b[0;31m# We don't need to check for tuples here because those are\u001b[0m\u001b[0;34m\u001b[0m\u001b[0;34m\u001b[0m\u001b[0;34m\u001b[0m\u001b[0m\n\u001b[1;32m    806\u001b[0m                 \u001b[0;31m#  caught by the _is_nested_tuple_indexer check above.\u001b[0m\u001b[0;34m\u001b[0m\u001b[0;34m\u001b[0m\u001b[0;34m\u001b[0m\u001b[0m\n\u001b[0;32m--> 807\u001b[0;31m                 \u001b[0msection\u001b[0m \u001b[0;34m=\u001b[0m \u001b[0mself\u001b[0m\u001b[0;34m.\u001b[0m\u001b[0m_getitem_axis\u001b[0m\u001b[0;34m(\u001b[0m\u001b[0mkey\u001b[0m\u001b[0;34m,\u001b[0m \u001b[0maxis\u001b[0m\u001b[0;34m=\u001b[0m\u001b[0mi\u001b[0m\u001b[0;34m)\u001b[0m\u001b[0;34m\u001b[0m\u001b[0;34m\u001b[0m\u001b[0m\n\u001b[0m\u001b[1;32m    808\u001b[0m \u001b[0;34m\u001b[0m\u001b[0m\n\u001b[1;32m    809\u001b[0m                 \u001b[0;31m# We should never have a scalar section here, because\u001b[0m\u001b[0;34m\u001b[0m\u001b[0;34m\u001b[0m\u001b[0;34m\u001b[0m\u001b[0m\n",
      "\u001b[0;32m~/opt/anaconda3/lib/python3.8/site-packages/pandas/core/indexing.py\u001b[0m in \u001b[0;36m_getitem_axis\u001b[0;34m(self, key, axis)\u001b[0m\n\u001b[1;32m   1122\u001b[0m         \u001b[0;31m# fall thru to straight lookup\u001b[0m\u001b[0;34m\u001b[0m\u001b[0;34m\u001b[0m\u001b[0;34m\u001b[0m\u001b[0m\n\u001b[1;32m   1123\u001b[0m         \u001b[0mself\u001b[0m\u001b[0;34m.\u001b[0m\u001b[0m_validate_key\u001b[0m\u001b[0;34m(\u001b[0m\u001b[0mkey\u001b[0m\u001b[0;34m,\u001b[0m \u001b[0maxis\u001b[0m\u001b[0;34m)\u001b[0m\u001b[0;34m\u001b[0m\u001b[0;34m\u001b[0m\u001b[0m\n\u001b[0;32m-> 1124\u001b[0;31m         \u001b[0;32mreturn\u001b[0m \u001b[0mself\u001b[0m\u001b[0;34m.\u001b[0m\u001b[0m_get_label\u001b[0m\u001b[0;34m(\u001b[0m\u001b[0mkey\u001b[0m\u001b[0;34m,\u001b[0m \u001b[0maxis\u001b[0m\u001b[0;34m=\u001b[0m\u001b[0maxis\u001b[0m\u001b[0;34m)\u001b[0m\u001b[0;34m\u001b[0m\u001b[0;34m\u001b[0m\u001b[0m\n\u001b[0m\u001b[1;32m   1125\u001b[0m \u001b[0;34m\u001b[0m\u001b[0m\n\u001b[1;32m   1126\u001b[0m     \u001b[0;32mdef\u001b[0m \u001b[0m_get_slice_axis\u001b[0m\u001b[0;34m(\u001b[0m\u001b[0mself\u001b[0m\u001b[0;34m,\u001b[0m \u001b[0mslice_obj\u001b[0m\u001b[0;34m:\u001b[0m \u001b[0mslice\u001b[0m\u001b[0;34m,\u001b[0m \u001b[0maxis\u001b[0m\u001b[0;34m:\u001b[0m \u001b[0mint\u001b[0m\u001b[0;34m)\u001b[0m\u001b[0;34m:\u001b[0m\u001b[0;34m\u001b[0m\u001b[0;34m\u001b[0m\u001b[0m\n",
      "\u001b[0;32m~/opt/anaconda3/lib/python3.8/site-packages/pandas/core/indexing.py\u001b[0m in \u001b[0;36m_get_label\u001b[0;34m(self, label, axis)\u001b[0m\n\u001b[1;32m   1071\u001b[0m     \u001b[0;32mdef\u001b[0m \u001b[0m_get_label\u001b[0m\u001b[0;34m(\u001b[0m\u001b[0mself\u001b[0m\u001b[0;34m,\u001b[0m \u001b[0mlabel\u001b[0m\u001b[0;34m,\u001b[0m \u001b[0maxis\u001b[0m\u001b[0;34m:\u001b[0m \u001b[0mint\u001b[0m\u001b[0;34m)\u001b[0m\u001b[0;34m:\u001b[0m\u001b[0;34m\u001b[0m\u001b[0;34m\u001b[0m\u001b[0m\n\u001b[1;32m   1072\u001b[0m         \u001b[0;31m# GH#5667 this will fail if the label is not present in the axis.\u001b[0m\u001b[0;34m\u001b[0m\u001b[0;34m\u001b[0m\u001b[0;34m\u001b[0m\u001b[0m\n\u001b[0;32m-> 1073\u001b[0;31m         \u001b[0;32mreturn\u001b[0m \u001b[0mself\u001b[0m\u001b[0;34m.\u001b[0m\u001b[0mobj\u001b[0m\u001b[0;34m.\u001b[0m\u001b[0mxs\u001b[0m\u001b[0;34m(\u001b[0m\u001b[0mlabel\u001b[0m\u001b[0;34m,\u001b[0m \u001b[0maxis\u001b[0m\u001b[0;34m=\u001b[0m\u001b[0maxis\u001b[0m\u001b[0;34m)\u001b[0m\u001b[0;34m\u001b[0m\u001b[0;34m\u001b[0m\u001b[0m\n\u001b[0m\u001b[1;32m   1074\u001b[0m \u001b[0;34m\u001b[0m\u001b[0m\n\u001b[1;32m   1075\u001b[0m     \u001b[0;32mdef\u001b[0m \u001b[0m_handle_lowerdim_multi_index_axis0\u001b[0m\u001b[0;34m(\u001b[0m\u001b[0mself\u001b[0m\u001b[0;34m,\u001b[0m \u001b[0mtup\u001b[0m\u001b[0;34m:\u001b[0m \u001b[0mTuple\u001b[0m\u001b[0;34m)\u001b[0m\u001b[0;34m:\u001b[0m\u001b[0;34m\u001b[0m\u001b[0;34m\u001b[0m\u001b[0m\n",
      "\u001b[0;32m~/opt/anaconda3/lib/python3.8/site-packages/pandas/core/generic.py\u001b[0m in \u001b[0;36mxs\u001b[0;34m(self, key, axis, level, drop_level)\u001b[0m\n\u001b[1;32m   3722\u001b[0m         \u001b[0;32mif\u001b[0m \u001b[0maxis\u001b[0m \u001b[0;34m==\u001b[0m \u001b[0;36m1\u001b[0m\u001b[0;34m:\u001b[0m\u001b[0;34m\u001b[0m\u001b[0;34m\u001b[0m\u001b[0m\n\u001b[1;32m   3723\u001b[0m             \u001b[0;32mif\u001b[0m \u001b[0mdrop_level\u001b[0m\u001b[0;34m:\u001b[0m\u001b[0;34m\u001b[0m\u001b[0;34m\u001b[0m\u001b[0m\n\u001b[0;32m-> 3724\u001b[0;31m                 \u001b[0;32mreturn\u001b[0m \u001b[0mself\u001b[0m\u001b[0;34m[\u001b[0m\u001b[0mkey\u001b[0m\u001b[0;34m]\u001b[0m\u001b[0;34m\u001b[0m\u001b[0;34m\u001b[0m\u001b[0m\n\u001b[0m\u001b[1;32m   3725\u001b[0m             \u001b[0mindex\u001b[0m \u001b[0;34m=\u001b[0m \u001b[0mself\u001b[0m\u001b[0;34m.\u001b[0m\u001b[0mcolumns\u001b[0m\u001b[0;34m\u001b[0m\u001b[0;34m\u001b[0m\u001b[0m\n\u001b[1;32m   3726\u001b[0m         \u001b[0;32melse\u001b[0m\u001b[0;34m:\u001b[0m\u001b[0;34m\u001b[0m\u001b[0;34m\u001b[0m\u001b[0m\n",
      "\u001b[0;32m~/opt/anaconda3/lib/python3.8/site-packages/pandas/core/frame.py\u001b[0m in \u001b[0;36m__getitem__\u001b[0;34m(self, key)\u001b[0m\n\u001b[1;32m   3022\u001b[0m             \u001b[0;32mif\u001b[0m \u001b[0mself\u001b[0m\u001b[0;34m.\u001b[0m\u001b[0mcolumns\u001b[0m\u001b[0;34m.\u001b[0m\u001b[0mnlevels\u001b[0m \u001b[0;34m>\u001b[0m \u001b[0;36m1\u001b[0m\u001b[0;34m:\u001b[0m\u001b[0;34m\u001b[0m\u001b[0;34m\u001b[0m\u001b[0m\n\u001b[1;32m   3023\u001b[0m                 \u001b[0;32mreturn\u001b[0m \u001b[0mself\u001b[0m\u001b[0;34m.\u001b[0m\u001b[0m_getitem_multilevel\u001b[0m\u001b[0;34m(\u001b[0m\u001b[0mkey\u001b[0m\u001b[0;34m)\u001b[0m\u001b[0;34m\u001b[0m\u001b[0;34m\u001b[0m\u001b[0m\n\u001b[0;32m-> 3024\u001b[0;31m             \u001b[0mindexer\u001b[0m \u001b[0;34m=\u001b[0m \u001b[0mself\u001b[0m\u001b[0;34m.\u001b[0m\u001b[0mcolumns\u001b[0m\u001b[0;34m.\u001b[0m\u001b[0mget_loc\u001b[0m\u001b[0;34m(\u001b[0m\u001b[0mkey\u001b[0m\u001b[0;34m)\u001b[0m\u001b[0;34m\u001b[0m\u001b[0;34m\u001b[0m\u001b[0m\n\u001b[0m\u001b[1;32m   3025\u001b[0m             \u001b[0;32mif\u001b[0m \u001b[0mis_integer\u001b[0m\u001b[0;34m(\u001b[0m\u001b[0mindexer\u001b[0m\u001b[0;34m)\u001b[0m\u001b[0;34m:\u001b[0m\u001b[0;34m\u001b[0m\u001b[0;34m\u001b[0m\u001b[0m\n\u001b[1;32m   3026\u001b[0m                 \u001b[0mindexer\u001b[0m \u001b[0;34m=\u001b[0m \u001b[0;34m[\u001b[0m\u001b[0mindexer\u001b[0m\u001b[0;34m]\u001b[0m\u001b[0;34m\u001b[0m\u001b[0;34m\u001b[0m\u001b[0m\n",
      "\u001b[0;32m~/opt/anaconda3/lib/python3.8/site-packages/pandas/core/indexes/base.py\u001b[0m in \u001b[0;36mget_loc\u001b[0;34m(self, key, method, tolerance)\u001b[0m\n\u001b[1;32m   3080\u001b[0m                 \u001b[0;32mreturn\u001b[0m \u001b[0mself\u001b[0m\u001b[0;34m.\u001b[0m\u001b[0m_engine\u001b[0m\u001b[0;34m.\u001b[0m\u001b[0mget_loc\u001b[0m\u001b[0;34m(\u001b[0m\u001b[0mcasted_key\u001b[0m\u001b[0;34m)\u001b[0m\u001b[0;34m\u001b[0m\u001b[0;34m\u001b[0m\u001b[0m\n\u001b[1;32m   3081\u001b[0m             \u001b[0;32mexcept\u001b[0m \u001b[0mKeyError\u001b[0m \u001b[0;32mas\u001b[0m \u001b[0merr\u001b[0m\u001b[0;34m:\u001b[0m\u001b[0;34m\u001b[0m\u001b[0;34m\u001b[0m\u001b[0m\n\u001b[0;32m-> 3082\u001b[0;31m                 \u001b[0;32mraise\u001b[0m \u001b[0mKeyError\u001b[0m\u001b[0;34m(\u001b[0m\u001b[0mkey\u001b[0m\u001b[0;34m)\u001b[0m \u001b[0;32mfrom\u001b[0m \u001b[0merr\u001b[0m\u001b[0;34m\u001b[0m\u001b[0;34m\u001b[0m\u001b[0m\n\u001b[0m\u001b[1;32m   3083\u001b[0m \u001b[0;34m\u001b[0m\u001b[0m\n\u001b[1;32m   3084\u001b[0m         \u001b[0;32mif\u001b[0m \u001b[0mtolerance\u001b[0m \u001b[0;32mis\u001b[0m \u001b[0;32mnot\u001b[0m \u001b[0;32mNone\u001b[0m\u001b[0;34m:\u001b[0m\u001b[0;34m\u001b[0m\u001b[0;34m\u001b[0m\u001b[0m\n",
      "\u001b[0;31mKeyError\u001b[0m: 'internet '"
     ]
    }
   ],
   "source": [
    "for col in ['higher', 'internet ', ' romantic ']:\n",
    "    get_stat_dif(col)"
   ]
  },
  {
   "cell_type": "code",
   "execution_count": null,
   "id": "85015c8d",
   "metadata": {},
   "outputs": [],
   "source": [
    "# Выводы.\n",
    "\n",
    "#Итак, в результате EDA для анализа влияния параметров  на результат на гос экземене по мат-ке были получены следующие выводы:\n",
    "\n",
    "#В данных достаточно мало пустых значений, только столбецы school, age, sex был заполнены полностью.\n",
    "#Выбросы найдены только в столбцае absences, остальные скорректированы из-за ошибок в таблице явно технических, что позволяет сделать вывод о том, что данные достаточно чистые.\n",
    "\n",
    "#Самые важные параметры, которые предлагается использовать в дальнейшем для построения модели, это Medu, Fedu, absences, Mjob, paid и higher"
   ]
  }
 ],
 "metadata": {
  "kernelspec": {
   "display_name": "Python 3",
   "language": "python",
   "name": "python3"
  },
  "language_info": {
   "codemirror_mode": {
    "name": "ipython",
    "version": 3
   },
   "file_extension": ".py",
   "mimetype": "text/x-python",
   "name": "python",
   "nbconvert_exporter": "python",
   "pygments_lexer": "ipython3",
   "version": "3.8.8"
  }
 },
 "nbformat": 4,
 "nbformat_minor": 5
}
